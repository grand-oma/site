{
 "cells": [
  {
   "cell_type": "markdown",
   "metadata": {},
   "source": [
    "# Exercices"
   ]
  },
  {
   "cell_type": "markdown",
   "metadata": {},
   "source": [
    "## Compréhension de liste\n",
    "\n",
    "1. Construisez une liste dont les éléments sont les 13 premiers entiers et ne sont multiples ni de 3 ni de 5. Commencez par faire cet exercice avec des boucles, des tests... vous allez arriver a quelque chose qui va marcher (normalement) mais qui va être lourd à lire et éventuellement à comprendre."
   ]
  },
  {
   "cell_type": "code",
   "execution_count": 1,
   "metadata": {
    "execution": {
     "iopub.execute_input": "2020-09-29T09:32:23.479684Z",
     "iopub.status.busy": "2020-09-29T09:32:23.478272Z",
     "iopub.status.idle": "2020-09-29T09:32:23.481933Z",
     "shell.execute_reply": "2020-09-29T09:32:23.481474Z"
    },
    "tags": [
     "solution"
    ]
   },
   "outputs": [
    {
     "name": "stdout",
     "output_type": "stream",
     "text": [
      "[1, 2, 4, 7, 8, 11, 13, 14, 16, 17, 19, 22, 23]\n"
     ]
    }
   ],
   "source": [
    "c=0\n",
    "k=1\n",
    "res=[]\n",
    "while c <13:\n",
    "    if k%3 != 0 and k%5 != 0:\n",
    "        res.append(k)\n",
    "        c+=1\n",
    "    k+=1\n",
    "print(res)"
   ]
  },
  {
   "cell_type": "markdown",
   "metadata": {},
   "source": [
    "2. Même exercice avec « simplement » une compréhension de liste."
   ]
  },
  {
   "cell_type": "code",
   "execution_count": 2,
   "metadata": {
    "execution": {
     "iopub.execute_input": "2020-09-29T09:32:23.493422Z",
     "iopub.status.busy": "2020-09-29T09:32:23.492417Z",
     "iopub.status.idle": "2020-09-29T09:32:23.495476Z",
     "shell.execute_reply": "2020-09-29T09:32:23.495892Z"
    },
    "tags": [
     "solution"
    ]
   },
   "outputs": [
    {
     "data": {
      "text/plain": [
       "[1, 2, 4, 7, 8, 11, 13, 14, 16, 17, 19, 22, 23]"
      ]
     },
     "execution_count": 1,
     "metadata": {},
     "output_type": "execute_result"
    }
   ],
   "source": [
    "[k for k in range(40) if k%3 != 0 and k%5 != 0][:13]"
   ]
  },
  {
   "cell_type": "markdown",
   "metadata": {},
   "source": [
    "3. Soit la liste suivante:"
   ]
  },
  {
   "cell_type": "code",
   "execution_count": 3,
   "metadata": {
    "execution": {
     "iopub.execute_input": "2020-09-29T09:32:23.501127Z",
     "iopub.status.busy": "2020-09-29T09:32:23.499560Z",
     "iopub.status.idle": "2020-09-29T09:32:23.501786Z",
     "shell.execute_reply": "2020-09-29T09:32:23.502202Z"
    }
   },
   "outputs": [],
   "source": [
    "foo = [ 2, 5, 12, 31, 2, 17, 31, 42, 2 ]"
   ]
  },
  {
   "cell_type": "markdown",
   "metadata": {},
   "source": [
    "Pour chaque compréhension ci-dessous, écrire le résultat sur une feuille, puis vérifiez votre résultat à la console:"
   ]
  },
  {
   "cell_type": "code",
   "execution_count": 4,
   "metadata": {
    "execution": {
     "iopub.execute_input": "2020-09-29T09:32:23.507488Z",
     "iopub.status.busy": "2020-09-29T09:32:23.506811Z",
     "iopub.status.idle": "2020-09-29T09:32:23.509772Z",
     "shell.execute_reply": "2020-09-29T09:32:23.510185Z"
    }
   },
   "outputs": [
    {
     "data": {
      "text/plain": [
       "[2, 0, 2, 1, 2, 2, 1, 2, 2]"
      ]
     },
     "execution_count": 1,
     "metadata": {},
     "output_type": "execute_result"
    }
   ],
   "source": [
    "[ n % 5 for n in foo ]"
   ]
  },
  {
   "cell_type": "code",
   "execution_count": 5,
   "metadata": {
    "execution": {
     "iopub.execute_input": "2020-09-29T09:32:23.515532Z",
     "iopub.status.busy": "2020-09-29T09:32:23.514818Z",
     "iopub.status.idle": "2020-09-29T09:32:23.517807Z",
     "shell.execute_reply": "2020-09-29T09:32:23.518215Z"
    }
   },
   "outputs": [
    {
     "data": {
      "text/plain": [
       "[4, 7, 14, 33, 4, 19, 33]"
      ]
     },
     "execution_count": 1,
     "metadata": {},
     "output_type": "execute_result"
    }
   ],
   "source": [
    "[ n+2 for n in foo[:-2]]"
   ]
  },
  {
   "cell_type": "code",
   "execution_count": 6,
   "metadata": {
    "execution": {
     "iopub.execute_input": "2020-09-29T09:32:23.523369Z",
     "iopub.status.busy": "2020-09-29T09:32:23.522686Z",
     "iopub.status.idle": "2020-09-29T09:32:23.525778Z",
     "shell.execute_reply": "2020-09-29T09:32:23.526183Z"
    }
   },
   "outputs": [
    {
     "data": {
      "text/plain": [
       "[True, False, False, False, False]"
      ]
     },
     "execution_count": 1,
     "metadata": {},
     "output_type": "execute_result"
    }
   ],
   "source": [
    "[ n <= 12 for n in foo if n >= 12 ]"
   ]
  },
  {
   "cell_type": "code",
   "execution_count": 7,
   "metadata": {
    "execution": {
     "iopub.execute_input": "2020-09-29T09:32:23.531530Z",
     "iopub.status.busy": "2020-09-29T09:32:23.530847Z",
     "iopub.status.idle": "2020-09-29T09:32:23.533812Z",
     "shell.execute_reply": "2020-09-29T09:32:23.534217Z"
    }
   },
   "outputs": [
    {
     "data": {
      "text/plain": [
       "['0b11111', '0b10001', '0b11111', '0b101010']"
      ]
     },
     "execution_count": 1,
     "metadata": {},
     "output_type": "execute_result"
    }
   ],
   "source": [
    "[ bin(n) for n in foo if n > 15 ]"
   ]
  },
  {
   "cell_type": "markdown",
   "metadata": {},
   "source": [
    "4. Ecrire la liste des lettres qui sont dans la chaine `ampfusntqnsuet`"
   ]
  },
  {
   "cell_type": "code",
   "execution_count": 8,
   "metadata": {
    "execution": {
     "iopub.execute_input": "2020-09-29T09:32:23.539824Z",
     "iopub.status.busy": "2020-09-29T09:32:23.539153Z",
     "iopub.status.idle": "2020-09-29T09:32:23.542117Z",
     "shell.execute_reply": "2020-09-29T09:32:23.542533Z"
    },
    "tags": [
     "solution"
    ]
   },
   "outputs": [
    {
     "data": {
      "text/plain": [
       "['a', 'm', 'p', 'f', 'u', 's', 'n', 't', 'q', 'n', 's', 'u', 'e', 't']"
      ]
     },
     "execution_count": 1,
     "metadata": {},
     "output_type": "execute_result"
    }
   ],
   "source": [
    "[c for c in 'ampfusntqnsuet']\n",
    "\n",
    "# ou bien :\n",
    "list(map(lambda x: x, 'ampfusntqnsuet'))"
   ]
  },
  {
   "cell_type": "markdown",
   "metadata": {},
   "source": [
    "5. Soit la liste:"
   ]
  },
  {
   "cell_type": "code",
   "execution_count": 9,
   "metadata": {
    "execution": {
     "iopub.execute_input": "2020-09-29T09:32:23.547865Z",
     "iopub.status.busy": "2020-09-29T09:32:23.546351Z",
     "iopub.status.idle": "2020-09-29T09:32:23.548576Z",
     "shell.execute_reply": "2020-09-29T09:32:23.549018Z"
    }
   },
   "outputs": [],
   "source": [
    "foo = [2, 4, 3, 9, 6, 9, 2, 6, 1, 0, 1, 0, 0, 6, 4, 5, 5, 0]"
   ]
  },
  {
   "cell_type": "markdown",
   "metadata": {},
   "source": [
    "Ecrire une liste qui contient les éléments `pair` ou `impair` pour chaque élément de `foo`, suivant que l'élément est pair ou impair."
   ]
  },
  {
   "cell_type": "code",
   "execution_count": 10,
   "metadata": {
    "execution": {
     "iopub.execute_input": "2020-09-29T09:32:23.554690Z",
     "iopub.status.busy": "2020-09-29T09:32:23.554028Z",
     "iopub.status.idle": "2020-09-29T09:32:23.557007Z",
     "shell.execute_reply": "2020-09-29T09:32:23.557442Z"
    },
    "tags": [
     "solution"
    ]
   },
   "outputs": [
    {
     "data": {
      "text/plain": [
       "['pair',\n",
       " 'pair',\n",
       " 'impair',\n",
       " 'impair',\n",
       " 'pair',\n",
       " 'impair',\n",
       " 'pair',\n",
       " 'pair',\n",
       " 'impair',\n",
       " 'pair',\n",
       " 'impair',\n",
       " 'pair',\n",
       " 'pair',\n",
       " 'pair',\n",
       " 'pair',\n",
       " 'impair',\n",
       " 'impair',\n",
       " 'pair']"
      ]
     },
     "execution_count": 1,
     "metadata": {},
     "output_type": "execute_result"
    }
   ],
   "source": [
    "['pair' if i%2==0 else 'impair' for i in foo]"
   ]
  },
  {
   "cell_type": "markdown",
   "metadata": {},
   "source": [
    "6. Ecrire par ordre croissant la liste des chiffres impairs dans `foo`. Note: on pourra utiliser la fonction `sorted()`."
   ]
  },
  {
   "cell_type": "code",
   "execution_count": 11,
   "metadata": {
    "execution": {
     "iopub.execute_input": "2020-09-29T09:32:23.562743Z",
     "iopub.status.busy": "2020-09-29T09:32:23.562066Z",
     "iopub.status.idle": "2020-09-29T09:32:23.564972Z",
     "shell.execute_reply": "2020-09-29T09:32:23.565393Z"
    },
    "tags": [
     "solution"
    ]
   },
   "outputs": [
    {
     "data": {
      "text/plain": [
       "[1, 1, 3, 5, 5, 9, 9]"
      ]
     },
     "execution_count": 1,
     "metadata": {},
     "output_type": "execute_result"
    }
   ],
   "source": [
    "[k for k in sorted(foo) if k%2 == 1]"
   ]
  },
  {
   "cell_type": "markdown",
   "metadata": {},
   "source": [
    "7. Ecrire la liste associée à `foo` indiquant si les éléments sont pair ou non (avec le booléen `True` ou `False`)."
   ]
  },
  {
   "cell_type": "code",
   "execution_count": 12,
   "metadata": {
    "execution": {
     "iopub.execute_input": "2020-09-29T09:32:23.569791Z",
     "iopub.status.busy": "2020-09-29T09:32:23.569311Z",
     "iopub.status.idle": "2020-09-29T09:32:23.575097Z",
     "shell.execute_reply": "2020-09-29T09:32:23.574576Z"
    },
    "tags": [
     "solution"
    ]
   },
   "outputs": [
    {
     "data": {
      "text/plain": [
       "[True,\n",
       " True,\n",
       " False,\n",
       " False,\n",
       " True,\n",
       " False,\n",
       " True,\n",
       " True,\n",
       " False,\n",
       " True,\n",
       " False,\n",
       " True,\n",
       " True,\n",
       " True,\n",
       " True,\n",
       " False,\n",
       " False,\n",
       " True]"
      ]
     },
     "execution_count": 1,
     "metadata": {},
     "output_type": "execute_result"
    }
   ],
   "source": [
    "[(lambda x: x%2 == 0)(i) for i in foo]"
   ]
  },
  {
   "cell_type": "markdown",
   "metadata": {},
   "source": [
    "8. Soit la liste:"
   ]
  },
  {
   "cell_type": "code",
   "execution_count": 13,
   "metadata": {
    "execution": {
     "iopub.execute_input": "2020-09-29T09:32:23.580776Z",
     "iopub.status.busy": "2020-09-29T09:32:23.579061Z",
     "iopub.status.idle": "2020-09-29T09:32:23.581448Z",
     "shell.execute_reply": "2020-09-29T09:32:23.581881Z"
    }
   },
   "outputs": [],
   "source": [
    "bar = [2.3, 3.2, 5.9, -0.4, 6.2, -4.9, 0.1, -2.7, 4.8, -2.0]"
   ]
  },
  {
   "cell_type": "markdown",
   "metadata": {},
   "source": [
    "Ecrire la liste associée à `bar` de la partie entière des nombres positifs. Note: on pourra utiliser la fonction `int()`."
   ]
  },
  {
   "cell_type": "code",
   "execution_count": 14,
   "metadata": {
    "execution": {
     "iopub.execute_input": "2020-09-29T09:32:23.587625Z",
     "iopub.status.busy": "2020-09-29T09:32:23.586864Z",
     "iopub.status.idle": "2020-09-29T09:32:23.592217Z",
     "shell.execute_reply": "2020-09-29T09:32:23.591768Z"
    },
    "tags": [
     "solution"
    ]
   },
   "outputs": [
    {
     "data": {
      "text/plain": [
       "[2, 3, 5, 6, 0, 4]"
      ]
     },
     "execution_count": 1,
     "metadata": {},
     "output_type": "execute_result"
    }
   ],
   "source": [
    "[int(x) for x in bar if x > 0]"
   ]
  },
  {
   "cell_type": "markdown",
   "metadata": {},
   "source": [
    "9. Soit la liste:"
   ]
  },
  {
   "cell_type": "code",
   "execution_count": 15,
   "metadata": {
    "execution": {
     "iopub.execute_input": "2020-09-29T09:32:23.596325Z",
     "iopub.status.busy": "2020-09-29T09:32:23.595689Z",
     "iopub.status.idle": "2020-09-29T09:32:23.598077Z",
     "shell.execute_reply": "2020-09-29T09:32:23.598496Z"
    }
   },
   "outputs": [],
   "source": [
    "baz = ['z', 'a', 'f', 'u', 'a', 'i', 'k', 'o', 'b', 'f', 'y']"
   ]
  },
  {
   "cell_type": "markdown",
   "metadata": {},
   "source": [
    "Ecrire la liste des lettres dans `baz` en majuscule. Note: On pourra utiliser la méthode `.upper()`."
   ]
  },
  {
   "cell_type": "code",
   "execution_count": 16,
   "metadata": {
    "execution": {
     "iopub.execute_input": "2020-09-29T09:32:23.603872Z",
     "iopub.status.busy": "2020-09-29T09:32:23.603206Z",
     "iopub.status.idle": "2020-09-29T09:32:23.606108Z",
     "shell.execute_reply": "2020-09-29T09:32:23.606510Z"
    },
    "tags": [
     "solution"
    ]
   },
   "outputs": [
    {
     "data": {
      "text/plain": [
       "['Z', 'A', 'F', 'U', 'A', 'I', 'K', 'O', 'B', 'F', 'Y']"
      ]
     },
     "execution_count": 1,
     "metadata": {},
     "output_type": "execute_result"
    }
   ],
   "source": [
    "[c.upper() for c in baz]"
   ]
  },
  {
   "cell_type": "markdown",
   "metadata": {},
   "source": [
    "## Suite de Fibonacci"
   ]
  },
  {
   "cell_type": "markdown",
   "metadata": {},
   "source": [
    "Leonardo Fibonacci (circa 1175 – 1250), mathématicien italien, proposa comme un exercice mathématique amusant le modèle suivant pour décrire la croissance naturelle d’une population de lapins. On suppose qu’on dispose d’un couple de lapins tout juste nés, maintenus isolés de leurs congénères. On suppose de plus que chaque mois, chaque couple âgé d’au moins deux mois engendre un nouveau couple de lapins. On ne tient pas compte de la mortalité naturelle des lapins. Le nombre $C_n$ de couples de lapins suit par conséquent une relation de récurrence,\n",
    "\n",
    "$$\n",
    "C_0 = C_1 = 1 \\ \\ \\ , \\ \\ \\  C_n = C_{n-1}+C_{n-2}\n",
    "$$\n",
    "\n",
    "La suite d’entiers $C_n$ est connue comme la suite de Fibonacci. On commence par inclure les paquets `numpy` et `matplotlib`"
   ]
  },
  {
   "cell_type": "code",
   "execution_count": 17,
   "metadata": {
    "execution": {
     "iopub.execute_input": "2020-09-29T09:32:23.610852Z",
     "iopub.status.busy": "2020-09-29T09:32:23.609994Z",
     "iopub.status.idle": "2020-09-29T09:32:23.949176Z",
     "shell.execute_reply": "2020-09-29T09:32:23.948595Z"
    }
   },
   "outputs": [],
   "source": [
    "import numpy as np\n",
    "import matplotlib.pyplot as plt"
   ]
  },
  {
   "cell_type": "markdown",
   "metadata": {},
   "source": [
    "1. Créez un tableau `ns` de 50 entiers de 0 à 49 inclus."
   ]
  },
  {
   "cell_type": "code",
   "execution_count": 18,
   "metadata": {
    "execution": {
     "iopub.execute_input": "2020-09-29T09:32:23.953301Z",
     "iopub.status.busy": "2020-09-29T09:32:23.952766Z",
     "iopub.status.idle": "2020-09-29T09:32:23.956051Z",
     "shell.execute_reply": "2020-09-29T09:32:23.956439Z"
    },
    "tags": [
     "solution"
    ]
   },
   "outputs": [],
   "source": [
    "N = 50\n",
    "ns = np.arange(50)"
   ]
  },
  {
   "cell_type": "markdown",
   "metadata": {},
   "source": [
    "2. En utilisant une boucle `for`, la valeur des deux premiers termes $C_0$ et $C_1$, et la relation de récurrence, calculez les 50 premières valeurs de cette suite, et stockez-les dans un tableau numpy `C`."
   ]
  },
  {
   "cell_type": "code",
   "execution_count": 19,
   "metadata": {
    "execution": {
     "iopub.execute_input": "2020-09-29T09:32:23.962813Z",
     "iopub.status.busy": "2020-09-29T09:32:23.961175Z",
     "iopub.status.idle": "2020-09-29T09:32:23.963393Z",
     "shell.execute_reply": "2020-09-29T09:32:23.963809Z"
    },
    "tags": [
     "solution"
    ]
   },
   "outputs": [],
   "source": [
    "C = np.empty(N, dtype='int64')\n",
    "C[0] = 1\n",
    "C[1] = 1\n",
    "for i in range(2, N):\n",
    "    C[i] = C[i-1] + C[i-2]"
   ]
  },
  {
   "cell_type": "markdown",
   "metadata": {},
   "source": [
    "3. Représentez l’évolution du nombre de couples de lapins en fonction du temps (exprimé en mois), pendant 50 mois. Pensez à ajouter un titre, à indiquez les axes et les unités."
   ]
  },
  {
   "cell_type": "code",
   "execution_count": 20,
   "metadata": {
    "execution": {
     "iopub.execute_input": "2020-09-29T09:32:23.974104Z",
     "iopub.status.busy": "2020-09-29T09:32:23.968304Z",
     "iopub.status.idle": "2020-09-29T09:32:24.124629Z",
     "shell.execute_reply": "2020-09-29T09:32:24.124107Z"
    },
    "tags": [
     "solution"
    ]
   },
   "outputs": [
    {
     "data": {
      "text/plain": [
       "[<matplotlib.lines.Line2D at 0x7f58cedaaa90>]"
      ]
     },
     "execution_count": 1,
     "metadata": {},
     "output_type": "execute_result"
    },
    {
     "data": {
      "image/png": "[encoded data removed]",
      "text/plain": [
       "<Figure size 432x288 with 1 Axes>"
      ]
     },
     "metadata": {
      "needs_background": "light"
     },
     "output_type": "display_data"
    }
   ],
   "source": [
    "plt.title(\"Evolution du nombre de couples de lapins\")\n",
    "plt.xlabel(\"Temps [mois]\")\n",
    "plt.ylabel(\"Couples de lapins\")\n",
    "plt.plot(ns, C, 'b+-')"
   ]
  },
  {
   "cell_type": "markdown",
   "metadata": {},
   "source": [
    "4. Ajoutez dans votre programme le calcul de la suite des rapports $r_n$ entre deux termes successifs de la suite de Fibonacci (pour $n$ allant de 1 à 49 inclus) :\n",
    "$$\n",
    "r_n = \\frac{C_n}{C_{n-1}}\n",
    "$$"
   ]
  },
  {
   "cell_type": "code",
   "execution_count": 21,
   "metadata": {
    "execution": {
     "iopub.execute_input": "2020-09-29T09:32:24.131996Z",
     "iopub.status.busy": "2020-09-29T09:32:24.130212Z",
     "iopub.status.idle": "2020-09-29T09:32:24.132610Z",
     "shell.execute_reply": "2020-09-29T09:32:24.133108Z"
    },
    "tags": [
     "solution"
    ]
   },
   "outputs": [],
   "source": [
    "# avec boucle :\n",
    "r = np.empty((N-1,))\n",
    "for i in range(N-1):\n",
    "    r[i] = C[i+1] / C[i]\n",
    "\n",
    "# ou sans boucle :\n",
    "r = np.array(C[1:],dtype='float')/C[:-1]"
   ]
  },
  {
   "cell_type": "markdown",
   "metadata": {},
   "source": [
    "5. Tracez le graphe de ce rapport $r_n$ en fonction du mois $n$, pour $n$ allant de 1 à 49 inclus."
   ]
  },
  {
   "cell_type": "code",
   "execution_count": 22,
   "metadata": {
    "execution": {
     "iopub.execute_input": "2020-09-29T09:32:24.162071Z",
     "iopub.status.busy": "2020-09-29T09:32:24.160973Z",
     "iopub.status.idle": "2020-09-29T09:32:24.454345Z",
     "shell.execute_reply": "2020-09-29T09:32:24.454808Z"
    },
    "tags": [
     "solution"
    ]
   },
   "outputs": [
    {
     "data": {
      "text/plain": [
       "[<matplotlib.lines.Line2D at 0x7f58aaebaba8>]"
      ]
     },
     "execution_count": 1,
     "metadata": {},
     "output_type": "execute_result"
    },
    {
     "data": {
      "image/png": "[encoded data removed]",
      "text/plain": [
       "<Figure size 432x288 with 1 Axes>"
      ]
     },
     "metadata": {
      "needs_background": "light"
     },
     "output_type": "display_data"
    }
   ],
   "source": [
    "plt.title(\"Suite de Fibonacci : rapport entre termes successifs\")\n",
    "plt.xlabel(\"Temps $n$ [mois]\")\n",
    "plt.ylabel(r\"$r_n = C_n/C_{n-1}$\")\n",
    "plt.plot(ns[1:], r, 'b+-')"
   ]
  },
  {
   "cell_type": "markdown",
   "metadata": {},
   "source": [
    "On peut montrer que le rapport $r_n$ a pour limite le nombre d’or $\\phi = ^1 \\!\\!\\!/\\!_2 (1+\\sqrt{5})$. Pour des $n$ suffisamment grands, la suite $C_n$ tend donc vers une suite géométrique de la forme $A \\phi^n$.\n",
    "\n",
    "6. Tracez les 50 premiers termes de la suite de Fibonacci sur un graphe semi-logarithmique (échelle log selon les ordonnées). La suite de Fibonacci tend-elle bien vers une suite géométrique ?"
   ]
  },
  {
   "cell_type": "code",
   "execution_count": 23,
   "metadata": {
    "execution": {
     "iopub.execute_input": "2020-09-29T09:32:24.476355Z",
     "iopub.status.busy": "2020-09-29T09:32:24.475286Z",
     "iopub.status.idle": "2020-09-29T09:32:24.711930Z",
     "shell.execute_reply": "2020-09-29T09:32:24.711396Z"
    },
    "tags": [
     "solution"
    ]
   },
   "outputs": [
    {
     "data": {
      "text/plain": [
       "[<matplotlib.lines.Line2D at 0x7f58aad82710>]"
      ]
     },
     "execution_count": 1,
     "metadata": {},
     "output_type": "execute_result"
    },
    {
     "data": {
      "image/png": "[encoded data removed]",
      "text/plain": [
       "<Figure size 432x288 with 1 Axes>"
      ]
     },
     "metadata": {
      "needs_background": "light"
     },
     "output_type": "display_data"
    }
   ],
   "source": [
    "plt.xscale('linear')\n",
    "plt.yscale('log')\n",
    "plt.title(\"Suite de Fibonacci\")\n",
    "plt.xlabel(\"Temps [mois]\")\n",
    "plt.ylabel(\"Couples de lapins\")\n",
    "plt.plot(ns, C, 'b+-')"
   ]
  },
  {
   "cell_type": "markdown",
   "metadata": {},
   "source": [
    "Comme la suite $C_n$ tend vers une suite géométrique, on a de manière immédiate:\n",
    "$$\n",
    "\\lim\\limits_{n \\rightarrow \\infty} D_n = \\lim\\limits_{n \\rightarrow \\infty} \\log(C_n) = \\log A + n \\log \\phi\n",
    "$$\n",
    "\n",
    "7. Calculez la suite $D_n$ et stockez-la dans un tableau numpy."
   ]
  },
  {
   "cell_type": "code",
   "execution_count": 24,
   "metadata": {
    "execution": {
     "iopub.execute_input": "2020-09-29T09:32:24.718027Z",
     "iopub.status.busy": "2020-09-29T09:32:24.716259Z",
     "iopub.status.idle": "2020-09-29T09:32:24.718694Z",
     "shell.execute_reply": "2020-09-29T09:32:24.719132Z"
    },
    "tags": [
     "solution"
    ]
   },
   "outputs": [],
   "source": [
    "D = np.log(C)"
   ]
  },
  {
   "cell_type": "markdown",
   "metadata": {},
   "source": [
    "## Récursion\n",
    "1. Ecrire une [fonction factorielle](https://fr.wikipedia.org/wiki/Factorielle) en utilisant la récursion, et proposer un test avec `assert`"
   ]
  },
  {
   "cell_type": "code",
   "execution_count": 25,
   "metadata": {
    "execution": {
     "iopub.execute_input": "2020-09-29T09:32:24.725890Z",
     "iopub.status.busy": "2020-09-29T09:32:24.724075Z",
     "iopub.status.idle": "2020-09-29T09:32:24.726528Z",
     "shell.execute_reply": "2020-09-29T09:32:24.726964Z"
    },
    "tags": [
     "solution"
    ]
   },
   "outputs": [],
   "source": [
    "# definition de la fonction factorielle\n",
    "def factorielle(x):\n",
    "    ''' retourne la factorielle du nombre x '''\n",
    "    if x == 1:\n",
    "        return 1\n",
    "    else:\n",
    "        return (x * factorielle(x-1))\n",
    "\n",
    "# test de la fonction\n",
    "assert factorielle(6) == 720"
   ]
  },
  {
   "cell_type": "markdown",
   "metadata": {},
   "source": [
    "2. Ecrire une fonction récursive de signature `pascal(n)` qui prend comme argument un entier $n$, et qui retourne la liste contenant les coefficients de la ligne $n$ du triangle de Pascal. Vous utiliserez pour cela une boucle `for`. Proposer un test de la fontion avec `assert`."
   ]
  },
  {
   "cell_type": "code",
   "execution_count": 26,
   "metadata": {
    "execution": {
     "iopub.execute_input": "2020-09-29T09:32:24.734463Z",
     "iopub.status.busy": "2020-09-29T09:32:24.732683Z",
     "iopub.status.idle": "2020-09-29T09:32:24.735277Z",
     "shell.execute_reply": "2020-09-29T09:32:24.735732Z"
    },
    "tags": [
     "solution"
    ]
   },
   "outputs": [],
   "source": [
    "# definition de la fonction pascal\n",
    "def pascal(n):\n",
    "    ''' retourne la ligne n du triangle de Pascal '''\n",
    "    if n == 1:\n",
    "        return [1]\n",
    "    else:\n",
    "        line = [1]\n",
    "        previous_line = pascal(n-1)\n",
    "        for i in range(len(previous_line)-1):\n",
    "            line.append(previous_line[i] + previous_line[i+1])\n",
    "        line += [1]\n",
    "    return line\n",
    "\n",
    "# test de la fonction\n",
    "assert pascal(6) == [1, 5, 10, 10, 5, 1]"
   ]
  },
  {
   "cell_type": "markdown",
   "metadata": {},
   "source": [
    "3. Même question avec une compréhension de liste au lieu de la boucle `for`."
   ]
  },
  {
   "cell_type": "code",
   "execution_count": 27,
   "metadata": {
    "execution": {
     "iopub.execute_input": "2020-09-29T09:32:24.742949Z",
     "iopub.status.busy": "2020-09-29T09:32:24.741372Z",
     "iopub.status.idle": "2020-09-29T09:32:24.743554Z",
     "shell.execute_reply": "2020-09-29T09:32:24.743975Z"
    },
    "tags": [
     "solution"
    ]
   },
   "outputs": [],
   "source": [
    "# definition de la fonction pascal\n",
    "def pascal(n):\n",
    "    ''' retourne la ligne n du triangle de Pascal '''\n",
    "    if n == 1:\n",
    "        return [1]\n",
    "    else:\n",
    "        p_line = pascal(n-1)\n",
    "        line = [ p_line[i]+p_line[i+1] for i in range(len(p_line)-1)]\n",
    "        line.insert(0,1)\n",
    "        line.append(1)\n",
    "    return line\n",
    "\n",
    "# test de la fonction\n",
    "assert pascal(6) == [1, 5, 10, 10, 5, 1]"
   ]
  }
 ],
 "metadata": {
  "kernelspec": {
   "display_name": "Python 3",
   "language": "python",
   "name": "python3"
  },
  "language_info": {
   "codemirror_mode": {
    "name": "ipython",
    "version": 3
   },
   "file_extension": ".py",
   "mimetype": "text/x-python",
   "name": "python",
   "nbconvert_exporter": "python",
   "pygments_lexer": "ipython3",
   "version": "3.6.7"
  }
 },
 "nbformat": 4,
 "nbformat_minor": 4
}
