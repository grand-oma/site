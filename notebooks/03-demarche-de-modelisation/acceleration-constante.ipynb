{
 "cells": [
  {
   "cell_type": "markdown",
   "metadata": {},
   "source": [
    "# Modèle de l'accélération constante"
   ]
  },
  {
   "cell_type": "markdown",
   "metadata": {
    "tags": []
   },
   "source": [
    "![alt text](fl971126.jpg \"Title\")"
   ]
  },
  {
   "cell_type": "markdown",
   "metadata": {},
   "source": [
    "## Expérience de chute libre\n",
    "\n",
    "\n",
    "Nous allons illustrer le processus de modélisation avec une expérience simple: la **chute libre à une dimension**. Prenons un objet et laissons le tomber d'une certaine hauteur, sans lui donner de vitesse initiale.\n",
    "\n",
    "Afin de modéliser cette expérience, il faut d'abord choisir un système de référence. Nous choisissons un axe vertical, dirigé dans le sens du mouvement de l'objet qui tombe. Appelons-le l'axe $z$. Nous choisissons l'origine de ce repère à l'endroit où l'on lâche l'objet, à $z=0$. L'objet est modélisé comme une particule ponctuelle.\n",
    "\n",
    "Nous savons que l'objet est soumis au champ de pesanteur terrestre, $g \\simeq 9.81$ m.s$^{-2}$. D'après les relations fondamentales de la dynamique et la loi de la gravitation universelle, il est donc soumis à une accélération constante:\n",
    "\\begin{equation}\n",
    "a(t) = \\frac{dv}{dt}(t) = g\n",
    "\\end{equation}\n",
    "\n",
    "En intégrant cette équation, on obtient la vitesse du corps en fonction du temps: \n",
    "\\begin{equation}\n",
    "v(t) = g t\n",
    "\\end{equation}\n",
    "\n",
    "Le modèle mathématique de la vitesse physique du corps est une fonction à une variable $v:\\mathbb{R}\\to\\mathbb{R}$. Nous pouvons représenter numériquement cette fonction de nombreuses façons différentes. Par exemple avec:\n",
    "\n",
    "- deux tableaux Numpy à 1 dimension qui représentent la vitesse et le temps ;\n",
    "- un tableau Numpy à 2 dimension dont une colonne représente le temps, et l'autre colonne la vitesse ;\n",
    "- un DataFrame Pandas dont l'index représente le temps, et une colonne représente la vitesse ;\n",
    "- une fonction Python dont l'argument représente le temps, et la sortie de la fonction représente la vitesse.\n",
    "\n",
    "Nous allons illustrer ces différentes possibilités."
   ]
  },
  {
   "cell_type": "markdown",
   "metadata": {},
   "source": [
    "## Représentation discrète de la vitesse\n",
    "\n",
    "Alors que la fonction $v$ est une fonction mathématique continue de $\\mathbb{R}$ dans $\\mathbb{R}$, c'est-à-dire dont le domaine de définition contient un nombre infini de valeurs, un tableau Numpy ne peut contenir qu'un nombre fini de valeurs. Il faut donc choisir un nombre fini de valeurs du temps $t$ pour lesquels nous allons calculer la vitesse $v$. On appelle cela une **représentation discrète**.\n",
    "\n",
    "Choisissons de représenter la fonction $v$ entre $t=0$ s et $t = 10$ s, avec un pas de 1 s. Pour remplir le tableau Numpy, on peut utiliser la fonction `linspace()` du module Numpy (voir *les fonctions de Numpy - Intervalles et pas*):"
   ]
  },
  {
   "cell_type": "code",
   "execution_count": 1,
   "metadata": {
    "execution": {
     "iopub.execute_input": "2020-09-29T09:32:08.369455Z",
     "iopub.status.busy": "2020-09-29T09:32:08.368561Z",
     "iopub.status.idle": "2020-09-29T09:32:08.502553Z",
     "shell.execute_reply": "2020-09-29T09:32:08.503015Z"
    }
   },
   "outputs": [],
   "source": [
    "# importation du module numpy\n",
    "import numpy as np\n",
    "\n",
    "# parametres de la discretisation\n",
    "temps_initial = 0 # s\n",
    "temps_final = 10 # s\n",
    "pas_temps = 1 # s\n",
    "\n",
    "# creation du tableau temps\n",
    "intervalle = temps_final - temps_initial\n",
    "num_points = int(intervalle / pas_temps) + 1   # nombre d'éléments\n",
    "temps = np.linspace(temps_initial, temps_final, num_points)"
   ]
  },
  {
   "cell_type": "markdown",
   "metadata": {},
   "source": [
    "Voyons ce que contient le tableau `temps`:"
   ]
  },
  {
   "cell_type": "code",
   "execution_count": 2,
   "metadata": {
    "execution": {
     "iopub.execute_input": "2020-09-29T09:32:08.508030Z",
     "iopub.status.busy": "2020-09-29T09:32:08.507506Z",
     "iopub.status.idle": "2020-09-29T09:32:08.511889Z",
     "shell.execute_reply": "2020-09-29T09:32:08.511419Z"
    },
    "tags": []
   },
   "outputs": [
    {
     "name": "stdout",
     "output_type": "stream",
     "text": [
      "[ 0.  1.  2.  3.  4.  5.  6.  7.  8.  9. 10.]\n"
     ]
    }
   ],
   "source": [
    "print(temps)"
   ]
  },
  {
   "cell_type": "markdown",
   "metadata": {},
   "source": [
    "Il contient bien les valeurs du temps entre 0 et 10 s avec un pas de 1 s. Afin de calculer la vitesse pour ces temps il suffit d'appliquer la formule $v = gt$ au tableau Numpy `temps`, pour créer le tableau Numpy `vitesse`. Cependant, pour que cela soit possible, il faut aussi créer une variable `pesanteur` qui contient la valeur de la pesanteur:"
   ]
  },
  {
   "cell_type": "code",
   "execution_count": 3,
   "metadata": {
    "execution": {
     "iopub.execute_input": "2020-09-29T09:32:08.517084Z",
     "iopub.status.busy": "2020-09-29T09:32:08.515462Z",
     "iopub.status.idle": "2020-09-29T09:32:08.517692Z",
     "shell.execute_reply": "2020-09-29T09:32:08.518118Z"
    }
   },
   "outputs": [],
   "source": [
    "# creation de la variable pesanteur\n",
    "pesanteur = 9.81 # m.s**-2\n",
    "\n",
    "# calcul du tableau vitesse\n",
    "vitesse = pesanteur * temps"
   ]
  },
  {
   "cell_type": "markdown",
   "metadata": {},
   "source": [
    "Voyons ce que contient le tableau vitesse:"
   ]
  },
  {
   "cell_type": "code",
   "execution_count": 4,
   "metadata": {
    "execution": {
     "iopub.execute_input": "2020-09-29T09:32:08.524163Z",
     "iopub.status.busy": "2020-09-29T09:32:08.522547Z",
     "iopub.status.idle": "2020-09-29T09:32:08.525975Z",
     "shell.execute_reply": "2020-09-29T09:32:08.525509Z"
    },
    "tags": []
   },
   "outputs": [
    {
     "name": "stdout",
     "output_type": "stream",
     "text": [
      "[ 0.    9.81 19.62 29.43 39.24 49.05 58.86 68.67 78.48 88.29 98.1 ]\n"
     ]
    }
   ],
   "source": [
    "print(vitesse)"
   ]
  },
  {
   "cell_type": "markdown",
   "metadata": {},
   "source": [
    "Le tableau `vitesse` contient les valeurs de la vitesse aux temps correspondant aux valeurs du tableau `temps`."
   ]
  },
  {
   "cell_type": "markdown",
   "metadata": {},
   "source": [
    "## Représentation graphique de la vitesse\n",
    "\n",
    "A partir des 2 tableaux Numpy `temps` et `vitesse`, qui sont une représentation numérique possible du temps et de la vitesse de l'objet qui chute, il est facile grâce au module Matplotlib d'obtenir une représentation graphique (voir *le module Matplotlib - Représentation graphique d'une fonction mathématique*):"
   ]
  },
  {
   "cell_type": "code",
   "execution_count": 5,
   "metadata": {
    "execution": {
     "iopub.execute_input": "2020-09-29T09:32:08.530840Z",
     "iopub.status.busy": "2020-09-29T09:32:08.530000Z",
     "iopub.status.idle": "2020-09-29T09:32:09.035337Z",
     "shell.execute_reply": "2020-09-29T09:32:09.035779Z"
    }
   },
   "outputs": [
    {
     "data": {
      "image/png": "[encoded data removed]",
      "text/plain": [
       "<Figure size 432x288 with 1 Axes>"
      ]
     },
     "metadata": {
      "needs_background": "light"
     },
     "output_type": "display_data"
    }
   ],
   "source": [
    "# importation du module pyplot de matplotlib\n",
    "import matplotlib.pyplot as plt\n",
    "\n",
    "# creation de la figure\n",
    "plt.plot(temps, vitesse, '-*')\n",
    "\n",
    "# style\n",
    "plt.xlabel('temps [s]')\n",
    "plt.ylabel('vitesse [m.s$^{-1}$]')\n",
    "plt.grid()"
   ]
  },
  {
   "cell_type": "markdown",
   "metadata": {},
   "source": [
    "Sur la figure nous avons explicitement mis des points pour montrer la discrétisation de la fonction $v$.\n",
    "\n",
    "Voyons maintenant comment modéliser le temps et la vitesse numériquement avec un objet `DataFrame` du module Pandas (voir le module *Dictionnaires et Pandas*). Nous allons d'abord créer un *index* contenant les temps du tableau `temps`. Pour cela, nous utilisons la fonction `to_datetime` de Pandas ([voir l'aide de cette fonction](https://pandas.pydata.org/pandas-docs/stable/reference/api/pandas.to_datetime.html)):"
   ]
  },
  {
   "cell_type": "code",
   "execution_count": 6,
   "metadata": {
    "execution": {
     "iopub.execute_input": "2020-09-29T09:32:09.041117Z",
     "iopub.status.busy": "2020-09-29T09:32:09.040222Z",
     "iopub.status.idle": "2020-09-29T09:32:09.272088Z",
     "shell.execute_reply": "2020-09-29T09:32:09.272530Z"
    }
   },
   "outputs": [],
   "source": [
    "# importation du module pandas\n",
    "import pandas as pd\n",
    "\n",
    "# creation de l'index contenant les dates de la discretisation\n",
    "index_temps = pd.to_datetime(temps, unit='s', origin='2020-03-14 13:45:00')"
   ]
  },
  {
   "cell_type": "markdown",
   "metadata": {},
   "source": [
    "Nous avons spécifié l'unité de temps avec l'option `unit`, et la date correspondant au temps $t=0$ s avec l'option `origin`. Nous pouvons alors créer le DataFrame `df_vitesse` avec la commande:"
   ]
  },
  {
   "cell_type": "code",
   "execution_count": 7,
   "metadata": {
    "execution": {
     "iopub.execute_input": "2020-09-29T09:32:09.278799Z",
     "iopub.status.busy": "2020-09-29T09:32:09.277202Z",
     "iopub.status.idle": "2020-09-29T09:32:09.279406Z",
     "shell.execute_reply": "2020-09-29T09:32:09.279820Z"
    }
   },
   "outputs": [],
   "source": [
    "df_vitesse = pd.DataFrame(data=vitesse, index=index_temps, columns=['vitesse'])"
   ]
  },
  {
   "cell_type": "markdown",
   "metadata": {},
   "source": [
    "On peut afficher les premières lignes du DataFrame:"
   ]
  },
  {
   "cell_type": "code",
   "execution_count": 8,
   "metadata": {
    "execution": {
     "iopub.execute_input": "2020-09-29T09:32:09.292810Z",
     "iopub.status.busy": "2020-09-29T09:32:09.288400Z",
     "iopub.status.idle": "2020-09-29T09:32:09.295237Z",
     "shell.execute_reply": "2020-09-29T09:32:09.295663Z"
    }
   },
   "outputs": [
    {
     "data": {
      "text/html": [
       "<div>\n",
       "<style scoped>\n",
       "    .dataframe tbody tr th:only-of-type {\n",
       "        vertical-align: middle;\n",
       "    }\n",
       "\n",
       "    .dataframe tbody tr th {\n",
       "        vertical-align: top;\n",
       "    }\n",
       "\n",
       "    .dataframe thead th {\n",
       "        text-align: right;\n",
       "    }\n",
       "</style>\n",
       "<table border=\"1\" class=\"dataframe\">\n",
       "  <thead>\n",
       "    <tr style=\"text-align: right;\">\n",
       "      <th></th>\n",
       "      <th>vitesse</th>\n",
       "    </tr>\n",
       "  </thead>\n",
       "  <tbody>\n",
       "    <tr>\n",
       "      <th>2020-03-14 13:45:00</th>\n",
       "      <td>0.00</td>\n",
       "    </tr>\n",
       "    <tr>\n",
       "      <th>2020-03-14 13:45:01</th>\n",
       "      <td>9.81</td>\n",
       "    </tr>\n",
       "    <tr>\n",
       "      <th>2020-03-14 13:45:02</th>\n",
       "      <td>19.62</td>\n",
       "    </tr>\n",
       "    <tr>\n",
       "      <th>2020-03-14 13:45:03</th>\n",
       "      <td>29.43</td>\n",
       "    </tr>\n",
       "    <tr>\n",
       "      <th>2020-03-14 13:45:04</th>\n",
       "      <td>39.24</td>\n",
       "    </tr>\n",
       "    <tr>\n",
       "      <th>2020-03-14 13:45:05</th>\n",
       "      <td>49.05</td>\n",
       "    </tr>\n",
       "  </tbody>\n",
       "</table>\n",
       "</div>"
      ],
      "text/plain": [
       "                     vitesse\n",
       "2020-03-14 13:45:00     0.00\n",
       "2020-03-14 13:45:01     9.81\n",
       "2020-03-14 13:45:02    19.62\n",
       "2020-03-14 13:45:03    29.43\n",
       "2020-03-14 13:45:04    39.24\n",
       "2020-03-14 13:45:05    49.05"
      ]
     },
     "execution_count": 1,
     "metadata": {},
     "output_type": "execute_result"
    }
   ],
   "source": [
    "df_vitesse.head(n=6)"
   ]
  },
  {
   "cell_type": "markdown",
   "metadata": {},
   "source": [
    "Cette représentation numérique a l'avantage d'être située dans le temps de façon non ambigue, avec des dates. Cela peut être très utile lorsque l'on veut représenter ou modéliser les données d'une expérience. Il suffit alors pour la représentation graphique d'écrire:"
   ]
  },
  {
   "cell_type": "code",
   "execution_count": 9,
   "metadata": {
    "execution": {
     "iopub.execute_input": "2020-09-29T09:32:09.326976Z",
     "iopub.status.busy": "2020-09-29T09:32:09.316907Z",
     "iopub.status.idle": "2020-09-29T09:32:09.447224Z",
     "shell.execute_reply": "2020-09-29T09:32:09.446700Z"
    }
   },
   "outputs": [
    {
     "data": {
      "image/png": "[encoded data removed]",
      "text/plain": [
       "<Figure size 432x288 with 1 Axes>"
      ]
     },
     "metadata": {
      "needs_background": "light"
     },
     "output_type": "display_data"
    }
   ],
   "source": [
    "# creation de la figure\n",
    "plt.plot(df_vitesse)\n",
    "\n",
    "# style\n",
    "plt.ylabel('vitesse [m.s$^{-1}$]')\n",
    "plt.grid()"
   ]
  },
  {
   "cell_type": "markdown",
   "metadata": {},
   "source": [
    "## Représentation sous la forme d'une fonction\n",
    "\n",
    "Il est possible de représenter la vitesse du corps en chute libre sous la forme d'une fonction python (voir le module *fonction*):"
   ]
  },
  {
   "cell_type": "code",
   "execution_count": 10,
   "metadata": {
    "execution": {
     "iopub.execute_input": "2020-09-29T09:32:09.453309Z",
     "iopub.status.busy": "2020-09-29T09:32:09.451285Z",
     "iopub.status.idle": "2020-09-29T09:32:09.453895Z",
     "shell.execute_reply": "2020-09-29T09:32:09.454311Z"
    }
   },
   "outputs": [],
   "source": [
    "# creation de la fonction\n",
    "def func_vitesse(temps):\n",
    "    return pesanteur * temps"
   ]
  },
  {
   "cell_type": "markdown",
   "metadata": {},
   "source": [
    "Avec cette représentation nous pouvons alors calculer la vitesse pour n'importe quel temps. Cela est un avantage certain par rapport à la représentation discrète, où nous avons accès à la vitesse que pour des temps donnés. Cependant, il n'est possible de représenter une grandeur physique de cette façon *seulement* si on connaît sa forme analytique.\n",
    "\n",
    "Par exemple, la vitesse au temps $t = 34.76$ s est:"
   ]
  },
  {
   "cell_type": "code",
   "execution_count": 11,
   "metadata": {
    "execution": {
     "iopub.execute_input": "2020-09-29T09:32:09.459982Z",
     "iopub.status.busy": "2020-09-29T09:32:09.458429Z",
     "iopub.status.idle": "2020-09-29T09:32:09.461748Z",
     "shell.execute_reply": "2020-09-29T09:32:09.461292Z"
    },
    "tags": []
   },
   "outputs": [
    {
     "name": "stdout",
     "output_type": "stream",
     "text": [
      "340.9956\n"
     ]
    }
   ],
   "source": [
    "print(func_vitesse(34.76))"
   ]
  },
  {
   "cell_type": "markdown",
   "metadata": {},
   "source": [
    "On peut aussi obtenir facilement un tableau Numpy des vitesses correspondant au tableau `temps`:"
   ]
  },
  {
   "cell_type": "code",
   "execution_count": 12,
   "metadata": {
    "execution": {
     "iopub.execute_input": "2020-09-29T09:32:09.468040Z",
     "iopub.status.busy": "2020-09-29T09:32:09.466197Z",
     "iopub.status.idle": "2020-09-29T09:32:09.469713Z",
     "shell.execute_reply": "2020-09-29T09:32:09.469271Z"
    },
    "tags": []
   },
   "outputs": [
    {
     "name": "stdout",
     "output_type": "stream",
     "text": [
      "[ 0.    9.81 19.62 29.43 39.24 49.05 58.86 68.67 78.48 88.29 98.1 ]\n"
     ]
    }
   ],
   "source": [
    "print(func_vitesse(temps))"
   ]
  },
  {
   "cell_type": "markdown",
   "metadata": {},
   "source": [
    "Ainsi, grâce à la fonction, on n'est pas obligé de définir un tableau `vitesse` intermédiaire pour représenter graphiquement la fonction. On peut écrire simplement:"
   ]
  },
  {
   "cell_type": "code",
   "execution_count": 13,
   "metadata": {
    "execution": {
     "iopub.execute_input": "2020-09-29T09:32:09.492108Z",
     "iopub.status.busy": "2020-09-29T09:32:09.491199Z",
     "iopub.status.idle": "2020-09-29T09:32:09.630513Z",
     "shell.execute_reply": "2020-09-29T09:32:09.630935Z"
    }
   },
   "outputs": [
    {
     "data": {
      "image/png": "[encoded data removed]",
      "text/plain": [
       "<Figure size 432x288 with 1 Axes>"
      ]
     },
     "metadata": {
      "needs_background": "light"
     },
     "output_type": "display_data"
    }
   ],
   "source": [
    "# creation de la figure\n",
    "plt.plot(temps, func_vitesse(temps))\n",
    "\n",
    "# style\n",
    "plt.xlabel('temps [s]')\n",
    "plt.ylabel('vitesse [m.s$^{-1}$]')\n",
    "plt.grid()"
   ]
  },
  {
   "cell_type": "markdown",
   "metadata": {},
   "source": [
    "## Représentation de la position\n",
    "\n",
    "En intégrant la vitesse de l'objet en chute par rapport au temps\n",
    "$$ v(t) = \\frac{dz}{dt}(t) = g t$$\n",
    "\n",
    "on obtient une nouvelle représentation du mouvement de la particule, sa position par rapport au temps:\n",
    "$$z(t) = \\frac{1}{2}gt^2$$\n",
    "\n",
    "Afin de représenter numériquement cette nouvelle fonction du temps, il suffit de créer un nouveau tableau Numpy `position_z` avec:"
   ]
  },
  {
   "cell_type": "code",
   "execution_count": 14,
   "metadata": {
    "execution": {
     "iopub.execute_input": "2020-09-29T09:32:09.636551Z",
     "iopub.status.busy": "2020-09-29T09:32:09.634896Z",
     "iopub.status.idle": "2020-09-29T09:32:09.637192Z",
     "shell.execute_reply": "2020-09-29T09:32:09.637603Z"
    }
   },
   "outputs": [],
   "source": [
    "# création du tableau position_z\n",
    "position_z = 1/2 * pesanteur * temps**2"
   ]
  },
  {
   "cell_type": "markdown",
   "metadata": {},
   "source": [
    "Voyons ce que contient ce tableau:"
   ]
  },
  {
   "cell_type": "code",
   "execution_count": 15,
   "metadata": {
    "execution": {
     "iopub.execute_input": "2020-09-29T09:32:09.644122Z",
     "iopub.status.busy": "2020-09-29T09:32:09.642440Z",
     "iopub.status.idle": "2020-09-29T09:32:09.646025Z",
     "shell.execute_reply": "2020-09-29T09:32:09.645560Z"
    },
    "tags": []
   },
   "outputs": [
    {
     "name": "stdout",
     "output_type": "stream",
     "text": [
      "[  0.      4.905  19.62   44.145  78.48  122.625 176.58  240.345 313.92\n",
      " 397.305 490.5  ]\n"
     ]
    }
   ],
   "source": [
    "print(position_z)"
   ]
  },
  {
   "cell_type": "markdown",
   "metadata": {},
   "source": [
    "Représentons graphiquement les trois représentations du mouvement de l'objet en chute libre: accélération, vitesse et position. Afin de représenter numériquement l'accélération en fonction du temps, on crée un tableau Numpy constant `acceleration`, de la même taille que le tableau `temps`, avec la fonction `ones()`:"
   ]
  },
  {
   "cell_type": "code",
   "execution_count": 16,
   "metadata": {
    "execution": {
     "iopub.execute_input": "2020-09-29T09:32:09.652956Z",
     "iopub.status.busy": "2020-09-29T09:32:09.651038Z",
     "iopub.status.idle": "2020-09-29T09:32:09.654815Z",
     "shell.execute_reply": "2020-09-29T09:32:09.654333Z"
    },
    "tags": []
   },
   "outputs": [
    {
     "name": "stdout",
     "output_type": "stream",
     "text": [
      "[9.81 9.81 9.81 9.81 9.81 9.81 9.81 9.81 9.81 9.81 9.81]\n"
     ]
    }
   ],
   "source": [
    "# creation du tableau acceleration\n",
    "acceleration = np.ones(temps.shape) * pesanteur\n",
    "\n",
    "# affichage du tableau\n",
    "print(acceleration)"
   ]
  },
  {
   "cell_type": "markdown",
   "metadata": {},
   "source": [
    "En affichant le tableau, nous vérifions que nous n'avons pas fait d'erreur. En effet, il est très important quand nous programmons de bien vérifier que chaque étape, chaque ligne qu'on écrit fait bien ce que l'on attend.\n",
    "\n",
    "Ensuite, mettons les trois représentations graphiques l'une en dessous de l'autre grâce à la fonction `subplot`:"
   ]
  },
  {
   "cell_type": "code",
   "execution_count": 17,
   "metadata": {
    "execution": {
     "iopub.execute_input": "2020-09-29T09:32:09.774068Z",
     "iopub.status.busy": "2020-09-29T09:32:09.718476Z",
     "iopub.status.idle": "2020-09-29T09:32:10.058790Z",
     "shell.execute_reply": "2020-09-29T09:32:10.058310Z"
    }
   },
   "outputs": [
    {
     "data": {
      "image/png": "[encoded data removed]",
      "text/plain": [
       "<Figure size 432x288 with 3 Axes>"
      ]
     },
     "metadata": {
      "needs_background": "light"
     },
     "output_type": "display_data"
    }
   ],
   "source": [
    "# représentation de l'accélération\n",
    "plt.subplot(3,1,1)\n",
    "plt.plot(temps, acceleration)\n",
    "plt.ylabel('acceleration [m.s$^{-2}$]')\n",
    "plt.grid()\n",
    "plt.tick_params(axis='x', labelbottom=False) # retire les label de l'axe x\n",
    "plt.title(\"Modèle de l'accélération constante à 1D\")\n",
    "\n",
    "# représentation de la vitesse\n",
    "plt.subplot(3,1,2)\n",
    "plt.plot(temps, vitesse)\n",
    "plt.ylabel('vitesse [m.s$^{-1}$]')\n",
    "plt.grid()\n",
    "plt.tick_params(axis='x', labelbottom=False) # retire les label de l'axe x\n",
    "\n",
    "# représentation de la position z\n",
    "plt.subplot(3,1,3)\n",
    "plt.plot(temps, position_z)\n",
    "plt.ylabel('position z [m]')\n",
    "plt.xlabel('temps [s]')\n",
    "plt.grid()\n",
    "\n",
    "plt.subplots_adjust(top=1.5) # agrandit l'espace entre les figures"
   ]
  },
  {
   "cell_type": "markdown",
   "metadata": {},
   "source": [
    "## Représentation du mouvement\n",
    "\n",
    "La pesanteur est dirigée le long de l'axe $z$. Nous savons donc que suivant les deux autres axes $x$ et $y$, dans un référentiel inertiel, il n'y a pas de mouvement. Supposons qu'initialement $x=2$ m. Nous voulons représenter le mouvement du corps en chute libre dans le plan $(xOz)$. Nous allons d'abord créer le tableau constant représentant la position suivant l'axe $x$:"
   ]
  },
  {
   "cell_type": "code",
   "execution_count": 18,
   "metadata": {
    "execution": {
     "iopub.execute_input": "2020-09-29T09:32:10.064086Z",
     "iopub.status.busy": "2020-09-29T09:32:10.062904Z",
     "iopub.status.idle": "2020-09-29T09:32:10.067557Z",
     "shell.execute_reply": "2020-09-29T09:32:10.067951Z"
    },
    "tags": []
   },
   "outputs": [
    {
     "name": "stdout",
     "output_type": "stream",
     "text": [
      "[2. 2. 2. 2. 2. 2. 2. 2. 2. 2. 2.]\n"
     ]
    }
   ],
   "source": [
    "# position suivant l'axe x\n",
    "position_x = np.ones(temps.shape) * 2 # m\n",
    "\n",
    "# verification du tableau\n",
    "print(position_x)"
   ]
  },
  {
   "cell_type": "markdown",
   "metadata": {},
   "source": [
    "Nous pouvons maintenant représenter graphiquement le mouvement de la particule grâce aux deux tableaux position:"
   ]
  },
  {
   "cell_type": "code",
   "execution_count": 19,
   "metadata": {
    "execution": {
     "iopub.execute_input": "2020-09-29T09:32:10.089618Z",
     "iopub.status.busy": "2020-09-29T09:32:10.087125Z",
     "iopub.status.idle": "2020-09-29T09:32:10.224067Z",
     "shell.execute_reply": "2020-09-29T09:32:10.224517Z"
    }
   },
   "outputs": [
    {
     "data": {
      "image/png": "[encoded data removed]",
      "text/plain": [
       "<Figure size 432x288 with 1 Axes>"
      ]
     },
     "metadata": {
      "needs_background": "light"
     },
     "output_type": "display_data"
    }
   ],
   "source": [
    "# representation graphique du mouvement\n",
    "plt.plot(position_x, -position_z, 'x-')\n",
    "\n",
    "# style\n",
    "plt.xlabel(\"position x [m]\")\n",
    "plt.ylabel(\"position -z [m]\")\n",
    "plt.grid()"
   ]
  },
  {
   "cell_type": "markdown",
   "metadata": {},
   "source": [
    "Nous avons sur la représentation graphique renversé l'axe $z$ car nous avons plutôt l'habitude de voir les objets tomber de haut en bas plutôt que de bas en haut. La représentation discrète du mouvement, avec un pas de temps constant, nous permet de bien voir (avec les croix) l'effet de l'accéleration sur la position."
   ]
  },
  {
   "cell_type": "markdown",
   "metadata": {},
   "source": [
    "## Représenter des données\n",
    "Des étudiants ont effectués une expérience de chute libre dans l'Atrium: ils ont fait tomber un objet de chaque étage de l'Atrium, sans vitesse initiale, et ont mesuré à chaque fois le temps de chute $T$ de l'objet ainsi que la hauteur de l'étage $H$. On reporte dans le tableau ci-dessous le résultat des mesures pour 4 groupes différents:\n",
    "\n",
    "| étage | 1 | 2 | 3 | 4 | 5\n",
    "|--|--|--|--|--|--\n",
    "| hauteur de l'étage (m) | 7.40 | 10.80 | 14.20 | 17.60 | 20.95\n",
    "| temps de chute (s) - groupe 1 | 1.09 | 1.39 | 1.70 | 2.05 | 2.25\n",
    "| temps de chute (s) - groupe 2 | 1.17 | 1.54 | 1.72 | 2.18 | 2.40\n",
    "| temps de chute (s) - groupe 3 | 1.33 | 1.68 | 1.56 | 2.19 | 2.40\n",
    "| temps de chute (s) - groupe 4 | 0.95 | 1.61 | 1.49 | 2.16 | 2.18\n",
    "\n",
    "Selon le modèle de l'accélération constante, la relation entre la hauteur de l'étage *H* et le temps de chute *T* est:\n",
    "$$ H = \\frac{1}{2} g T^2 $$\n",
    "\n",
    "Représentons graphiquement le modèle (en ligne continue) et les données (avec des croix), grâce à des tableaux Numpy:"
   ]
  },
  {
   "cell_type": "code",
   "execution_count": 20,
   "metadata": {
    "execution": {
     "iopub.execute_input": "2020-09-29T09:32:10.240616Z",
     "iopub.status.busy": "2020-09-29T09:32:10.239667Z",
     "iopub.status.idle": "2020-09-29T09:32:10.433456Z",
     "shell.execute_reply": "2020-09-29T09:32:10.432816Z"
    }
   },
   "outputs": [
    {
     "data": {
      "text/plain": [
       "<matplotlib.legend.Legend at 0x7f33425d90b8>"
      ]
     },
     "execution_count": 1,
     "metadata": {},
     "output_type": "execute_result"
    },
    {
     "data": {
      "image/png": "[encoded data removed]",
      "text/plain": [
       "<Figure size 432x288 with 1 Axes>"
      ]
     },
     "metadata": {
      "needs_background": "light"
     },
     "output_type": "display_data"
    }
   ],
   "source": [
    "# modele\n",
    "temps_chute_modele = np.linspace(0.0, 3.0) # s\n",
    "hauteur_etage_modele = 1/2 * pesanteur * temps_chute_modele**2\n",
    "\n",
    "# mesures de la hauteur des etages\n",
    "hauteur_etage_mesure = np.array([7.40, 10.80, 14.20, 17.60, 20.95]) # m\n",
    "\n",
    "# mesures des temps de chute pour les 4 groupes\n",
    "temps_chute_groupe1 = np.array([1.09, 1.39, 1.70, 2.05, 2.25]) # s\n",
    "temps_chute_groupe2 = np.array([1.17, 1.54, 1.72, 2.18, 2.40]) # s\n",
    "temps_chute_groupe3 = np.array([1.33, 1.68, 1.56, 2.19, 2.40]) # s\n",
    "temps_chute_groupe4 = np.array([0.95, 1.61, 1.49, 2.16, 2.18]) # s\n",
    "\n",
    "# représentation graphique du modèle\n",
    "plt.plot(temps_chute_modele, hauteur_etage_modele)\n",
    "\n",
    "# representation graphique des données\n",
    "plt.plot(temps_chute_groupe1, hauteur_etage_mesure, 'x')\n",
    "plt.plot(temps_chute_groupe2, hauteur_etage_mesure, 'x')\n",
    "plt.plot(temps_chute_groupe3, hauteur_etage_mesure, 'x')\n",
    "plt.plot(temps_chute_groupe4, hauteur_etage_mesure, 'x')\n",
    "\n",
    "# style\n",
    "plt.title(\"Expérience de chute libre\")\n",
    "plt.xlabel(\"temps de chute [s]\")\n",
    "plt.ylabel(\"hauteur de l'étage [m]\")\n",
    "plt.grid()\n",
    "plt.legend((\"mesures\", \"données groupe 1\", \"données groupe 2\", \"données groupe 3\", \"données groupe 4\"))"
   ]
  }
 ],
 "metadata": {
  "kernelspec": {
   "display_name": "Python 3",
   "language": "python",
   "name": "python3"
  },
  "language_info": {
   "codemirror_mode": {
    "name": "ipython",
    "version": 3
   },
   "file_extension": ".py",
   "mimetype": "text/x-python",
   "name": "python",
   "nbconvert_exporter": "python",
   "pygments_lexer": "ipython3",
   "version": "3.6.7"
  }
 },
 "nbformat": 4,
 "nbformat_minor": 4
}
