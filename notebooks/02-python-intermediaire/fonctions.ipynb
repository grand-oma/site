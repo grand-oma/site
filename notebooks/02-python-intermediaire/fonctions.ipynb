{
 "cells": [
  {
   "cell_type": "markdown",
   "metadata": {},
   "source": [
    "# Fonctions"
   ]
  },
  {
   "cell_type": "markdown",
   "metadata": {},
   "source": [
    "## Créer de nouvelles fonctions\n",
    "Jusqu'à maintenant nous avons utilisé des fonctions déjà définies dans Python ou dans des modules. Cependant, il est possible de définir ses propres fonctions. Au minimum, la définition d'une fonction spécifie le *nom de la fonction*, et le *bloc d'instruction* à exécuter lorsque la fonction est appelée.\n",
    "\n",
    "Voici par exemple une fonction qui, lorsqu'on l'appelle, affiche la chaîne de caractères `\"en forme\"`:"
   ]
  },
  {
   "cell_type": "code",
   "execution_count": 1,
   "metadata": {
    "execution": {
     "iopub.execute_input": "2020-09-29T09:31:59.821079Z",
     "iopub.status.busy": "2020-09-29T09:31:59.819633Z",
     "iopub.status.idle": "2020-09-29T09:31:59.823278Z",
     "shell.execute_reply": "2020-09-29T09:31:59.822811Z"
    },
    "tags": []
   },
   "outputs": [
    {
     "name": "stdout",
     "output_type": "stream",
     "text": [
      "en forme\n"
     ]
    }
   ],
   "source": [
    "# definition de la fonction state\n",
    "def state():\n",
    "    print(\"en forme\")\n",
    "\n",
    "# appel de la fonction\n",
    "state()"
   ]
  },
  {
   "cell_type": "markdown",
   "metadata": {},
   "source": [
    "Pour définir la fonction, on a utilisé l'instruction `def` suivie du nom de la fonction, `state`, de deux parenthèses et de deux points: c'est **l'en-tête** de la fonction. Cet en-tête est suivie par le bloc d'instruction, qui est indenté, et peut contenir n'importe quel nombre d'instructions. La définition de la fonction se termine lorsque l'indentation est terminée.\n",
    "\n",
    "Pour appeler la fonction une fois qu'elle est définie, il suffit d'écrire son nom suivi de parenthèses, comme pour les fonctions pré-définies.\n",
    "\n",
    "Il est possible de créer de nouvelles variables à l'intérieur d'une fonction:"
   ]
  },
  {
   "cell_type": "code",
   "execution_count": 2,
   "metadata": {
    "execution": {
     "iopub.execute_input": "2020-09-29T09:31:59.829200Z",
     "iopub.status.busy": "2020-09-29T09:31:59.827644Z",
     "iopub.status.idle": "2020-09-29T09:31:59.831024Z",
     "shell.execute_reply": "2020-09-29T09:31:59.830572Z"
    },
    "tags": []
   },
   "outputs": [
    {
     "name": "stdout",
     "output_type": "stream",
     "text": [
      "je suis en forme\n"
     ]
    }
   ],
   "source": [
    "# definition de la fonction state\n",
    "def state():\n",
    "    my_state = \"je suis \" + \"en forme\"\n",
    "    print(my_state)\n",
    "\n",
    "# appel de la fonction\n",
    "state()"
   ]
  },
  {
   "cell_type": "markdown",
   "metadata": {},
   "source": [
    "Ici nous avons re-défini la fonction `state`, et à l'intérieur de cette fonction nous avons défini la variable `my_state`, qui est le résultat d'une concaténation de chaînes de caractères."
   ]
  },
  {
   "cell_type": "markdown",
   "metadata": {},
   "source": [
    "### Exercice\n",
    "Créer une fonction nommée `cube`. Dans le bloc d'instruction, calculer le cube du chiffre 3 (sans utiliser de fonction pré-définie) et affecter le résultat à une variable nommée `result`, puis afficher à l'écran cette variable. Tester votre fonction en l'appelant. "
   ]
  },
  {
   "cell_type": "code",
   "execution_count": 3,
   "metadata": {
    "execution": {
     "iopub.execute_input": "2020-09-29T09:31:59.837002Z",
     "iopub.status.busy": "2020-09-29T09:31:59.835379Z",
     "iopub.status.idle": "2020-09-29T09:31:59.838749Z",
     "shell.execute_reply": "2020-09-29T09:31:59.838295Z"
    },
    "tags": [
     "solution"
    ]
   },
   "outputs": [
    {
     "name": "stdout",
     "output_type": "stream",
     "text": [
      "27\n"
     ]
    }
   ],
   "source": [
    "# definition de la fonction cube\n",
    "def cube():\n",
    "    result = 3 * 3 * 3\n",
    "    print(result)\n",
    "\n",
    "# appel de la fonction\n",
    "cube()"
   ]
  },
  {
   "cell_type": "markdown",
   "metadata": {},
   "source": [
    "## Paramètres et arguments\n",
    "La plupart des fonctions pré-définies que nous avons vues nécessitent des *arguments*. Par exemple:"
   ]
  },
  {
   "cell_type": "code",
   "execution_count": 4,
   "metadata": {
    "execution": {
     "iopub.execute_input": "2020-09-29T09:31:59.850298Z",
     "iopub.status.busy": "2020-09-29T09:31:59.848947Z",
     "iopub.status.idle": "2020-09-29T09:31:59.852562Z",
     "shell.execute_reply": "2020-09-29T09:31:59.852126Z"
    }
   },
   "outputs": [
    {
     "data": {
      "text/plain": [
       "'2'"
      ]
     },
     "execution_count": 1,
     "metadata": {},
     "output_type": "execute_result"
    }
   ],
   "source": [
    "str(2)"
   ]
  },
  {
   "cell_type": "markdown",
   "metadata": {},
   "source": [
    "prend comme argument l'entier `2`. Lorsque l'on définit une fonction, les arguments sont *assignés* à des variables appelées **paramètres**. Définissons de nouveau la fonction `state` avec un paramètre:"
   ]
  },
  {
   "cell_type": "code",
   "execution_count": 5,
   "metadata": {
    "execution": {
     "iopub.execute_input": "2020-09-29T09:31:59.859141Z",
     "iopub.status.busy": "2020-09-29T09:31:59.857512Z",
     "iopub.status.idle": "2020-09-29T09:31:59.860928Z",
     "shell.execute_reply": "2020-09-29T09:31:59.860403Z"
    },
    "tags": []
   },
   "outputs": [
    {
     "name": "stdout",
     "output_type": "stream",
     "text": [
      "je suis en forme\n"
     ]
    }
   ],
   "source": [
    "# definition de la fonction state\n",
    "def state(mot):\n",
    "    my_state = \"je suis \" + mot\n",
    "    print(my_state)\n",
    "\n",
    "# appel de la fonction\n",
    "state(\"en forme\")"
   ]
  },
  {
   "cell_type": "markdown",
   "metadata": {},
   "source": [
    "Lorsque l'on appelle la fonction `state`, l'argument entre parenthèse, `\"en forme\"`, est assigné au paramètre `mot`. La partie de l'en-tête qui définit le nom de la fonction et son (ou ses) paramètre(s), ici `state(mot)`, est appelé la **signature** de la fonction."
   ]
  },
  {
   "cell_type": "markdown",
   "metadata": {},
   "source": [
    "### Exercice\n",
    "Reprendre la fonction `cube`. Définir un paramètre appelé `x` afin de pouvoir mettre au cube n'importe quel nombre. La signature de la fonction est donc `cube(x)`. Testez votre fonction avec le chiffre 3."
   ]
  },
  {
   "cell_type": "code",
   "execution_count": 6,
   "metadata": {
    "execution": {
     "iopub.execute_input": "2020-09-29T09:31:59.867000Z",
     "iopub.status.busy": "2020-09-29T09:31:59.865497Z",
     "iopub.status.idle": "2020-09-29T09:31:59.868983Z",
     "shell.execute_reply": "2020-09-29T09:31:59.868468Z"
    },
    "tags": [
     "solution"
    ]
   },
   "outputs": [
    {
     "name": "stdout",
     "output_type": "stream",
     "text": [
      "27\n"
     ]
    }
   ],
   "source": [
    "# definition de la fonction cube\n",
    "def cube(x):\n",
    "    result = x * x * x\n",
    "    print(result)\n",
    "\n",
    "# appel de la fonction\n",
    "cube(3)"
   ]
  },
  {
   "cell_type": "markdown",
   "metadata": {},
   "source": [
    "## Retourner une valeur\n",
    "Nous avons vu que les fonctions pré-définies *retournent* généralement une valeur, que l'on peut affecter à une variable. Par exemple:"
   ]
  },
  {
   "cell_type": "code",
   "execution_count": 7,
   "metadata": {
    "execution": {
     "iopub.execute_input": "2020-09-29T09:31:59.873955Z",
     "iopub.status.busy": "2020-09-29T09:31:59.872534Z",
     "iopub.status.idle": "2020-09-29T09:31:59.874752Z",
     "shell.execute_reply": "2020-09-29T09:31:59.875172Z"
    }
   },
   "outputs": [],
   "source": [
    "s2 = str(2)"
   ]
  },
  {
   "cell_type": "markdown",
   "metadata": {},
   "source": [
    "Il est souvent préférable lorsque l'on définit une fonction de retourner la valeur plutôt que l'afficher avec `print()`. Pour cela, nous utilisons l'instruction `return`. Reprenons notre fonction `state`:"
   ]
  },
  {
   "cell_type": "code",
   "execution_count": 8,
   "metadata": {
    "execution": {
     "iopub.execute_input": "2020-09-29T09:31:59.881165Z",
     "iopub.status.busy": "2020-09-29T09:31:59.879683Z",
     "iopub.status.idle": "2020-09-29T09:31:59.883136Z",
     "shell.execute_reply": "2020-09-29T09:31:59.882701Z"
    },
    "tags": []
   },
   "outputs": [
    {
     "name": "stdout",
     "output_type": "stream",
     "text": [
      "je suis en forme\n"
     ]
    }
   ],
   "source": [
    "# definition de la fonction state\n",
    "def state(mot):\n",
    "    my_state = \"je suis \" + mot\n",
    "    return my_state\n",
    "\n",
    "# appel de la fonction\n",
    "s = state(\"en forme\")\n",
    "print(s)"
   ]
  },
  {
   "cell_type": "markdown",
   "metadata": {},
   "source": [
    "Grâce à l'instruction `return`, nous avons pu affecter le résultat de la fonction à une nouvelle variable `s`."
   ]
  },
  {
   "cell_type": "markdown",
   "metadata": {},
   "source": [
    "### Exercice\n",
    "Reprendre la fonction `cube` et remplacer l'instruction `print()` par `return`. Affecter le résultat de la fonction pour l'argument 3 à une nouvelle variable et l'afficher à l'écran (en dehors de la fonction)."
   ]
  },
  {
   "cell_type": "code",
   "execution_count": 9,
   "metadata": {
    "execution": {
     "iopub.execute_input": "2020-09-29T09:31:59.889290Z",
     "iopub.status.busy": "2020-09-29T09:31:59.887739Z",
     "iopub.status.idle": "2020-09-29T09:31:59.891198Z",
     "shell.execute_reply": "2020-09-29T09:31:59.890705Z"
    },
    "tags": [
     "solution"
    ]
   },
   "outputs": [
    {
     "name": "stdout",
     "output_type": "stream",
     "text": [
      "27\n"
     ]
    }
   ],
   "source": [
    "# definition de la fonction cube\n",
    "def cube(x):\n",
    "    result = x * x * x\n",
    "    return result\n",
    "\n",
    "# appel de la fonction\n",
    "c3 = cube(3)\n",
    "print(c3)"
   ]
  },
  {
   "cell_type": "markdown",
   "metadata": {},
   "source": [
    "## Docstrings\n",
    "Nous avons vu précédemment qu'il est essentiel de commenter son code, pour les autres et soi-même. De la même façon, il est essentiel lorsque l'on crée une fonction de décrire l'utilité de cette fonction. Pour cela nous utilisons les **Docstrings**:"
   ]
  },
  {
   "cell_type": "code",
   "execution_count": 10,
   "metadata": {
    "execution": {
     "iopub.execute_input": "2020-09-29T09:31:59.896998Z",
     "iopub.status.busy": "2020-09-29T09:31:59.895402Z",
     "iopub.status.idle": "2020-09-29T09:31:59.897672Z",
     "shell.execute_reply": "2020-09-29T09:31:59.898087Z"
    }
   },
   "outputs": [],
   "source": [
    "# definition de la fonction state\n",
    "def state(mot):\n",
    "    \"\"\" Affiche à l'écran mon état \"\"\"\n",
    "    my_state = \"je suis \" + mot\n",
    "    return my_state"
   ]
  },
  {
   "cell_type": "markdown",
   "metadata": {},
   "source": [
    "Le Docstring s'écrit juste après l'en-tête de la fonction, entre triple double guillemets. Cela sert de documentation à votre fonction. "
   ]
  },
  {
   "cell_type": "markdown",
   "metadata": {},
   "source": [
    "### Exercice\n",
    "Reprendre la fonction cube et documenter cette fonction."
   ]
  },
  {
   "cell_type": "code",
   "execution_count": 11,
   "metadata": {
    "execution": {
     "iopub.execute_input": "2020-09-29T09:31:59.903734Z",
     "iopub.status.busy": "2020-09-29T09:31:59.902058Z",
     "iopub.status.idle": "2020-09-29T09:31:59.904687Z",
     "shell.execute_reply": "2020-09-29T09:31:59.905203Z"
    },
    "tags": [
     "solution"
    ]
   },
   "outputs": [],
   "source": [
    "# definition de la fonction cube\n",
    "def cube(x):\n",
    "    \"\"\" Retourne le cube d'une valeur \"\"\"\n",
    "    result = x * x * x\n",
    "    return result"
   ]
  },
  {
   "cell_type": "markdown",
   "metadata": {},
   "source": [
    "## Paramètres multiples\n",
    "Nous avons vu une fonction avec un seul paramètre. Cependant, il est possible de définir autant de paramètres que l'on veut. Voici la fonction `state` avec 2 paramètres, dont la signature est `state(mot, jour)`:"
   ]
  },
  {
   "cell_type": "code",
   "execution_count": 12,
   "metadata": {
    "execution": {
     "iopub.execute_input": "2020-09-29T09:31:59.910326Z",
     "iopub.status.busy": "2020-09-29T09:31:59.909683Z",
     "iopub.status.idle": "2020-09-29T09:31:59.912417Z",
     "shell.execute_reply": "2020-09-29T09:31:59.912861Z"
    },
    "tags": []
   },
   "outputs": [
    {
     "name": "stdout",
     "output_type": "stream",
     "text": [
      "Le lundi, je suis en forme\n"
     ]
    }
   ],
   "source": [
    "# definition de la fonction state\n",
    "def state(mot, jour):\n",
    "    \"\"\" Affiche à l'écran mon état \"\"\"\n",
    "    my_state = \"Le \" + jour + \", je suis \" + mot\n",
    "    return my_state\n",
    "\n",
    "# appel de la fonction\n",
    "s = state(\"en forme\", \"lundi\")\n",
    "print(s)"
   ]
  },
  {
   "cell_type": "markdown",
   "metadata": {},
   "source": [
    "On voit qu'il faut faire attention à l'ordre dans lequel on écrit les arguments lors de l'appel de la fonction: les arguments sont assignés dans le même ordre aux paramètres.\n",
    "\n",
    "Il est possible de définir une valeur par défaut du (ou des) dernier(s) paramètre(s), avec le signe `=`. Lors de l'appel de la fonction, on n'est alors pas obligé de spécifier le deuxième argument, qui prend la valeur par défaut:"
   ]
  },
  {
   "cell_type": "code",
   "execution_count": 13,
   "metadata": {
    "execution": {
     "iopub.execute_input": "2020-09-29T09:31:59.917930Z",
     "iopub.status.busy": "2020-09-29T09:31:59.917369Z",
     "iopub.status.idle": "2020-09-29T09:31:59.919805Z",
     "shell.execute_reply": "2020-09-29T09:31:59.920227Z"
    },
    "tags": []
   },
   "outputs": [
    {
     "name": "stdout",
     "output_type": "stream",
     "text": [
      "Le lundi, je suis en forme\n",
      "Le vendredi, je suis fatigué\n"
     ]
    }
   ],
   "source": [
    "# definition de la fonction state\n",
    "def state(mot, jour = \"lundi\"):\n",
    "    \"\"\" Affiche à l'écran mon état \"\"\"\n",
    "    my_state = \"Le \" + jour + \", je suis \" + mot\n",
    "    return my_state\n",
    "\n",
    "# appel de la fonction\n",
    "s = state(\"en forme\"); print(s)\n",
    "s = state(\"fatigué\", \"vendredi\"); print(s)"
   ]
  },
  {
   "cell_type": "markdown",
   "metadata": {},
   "source": [
    "### Exercice\n",
    "Ecrire une fonction de signature `add(a,b)` qui retourne la somme de `a` et `b`. Par défaut, `b` est égal à 1. Testez et documentez votre fonction."
   ]
  },
  {
   "cell_type": "code",
   "execution_count": 14,
   "metadata": {
    "execution": {
     "iopub.execute_input": "2020-09-29T09:31:59.926842Z",
     "iopub.status.busy": "2020-09-29T09:31:59.925361Z",
     "iopub.status.idle": "2020-09-29T09:31:59.928667Z",
     "shell.execute_reply": "2020-09-29T09:31:59.928230Z"
    },
    "tags": [
     "solution"
    ]
   },
   "outputs": [
    {
     "name": "stdout",
     "output_type": "stream",
     "text": [
      "6\n",
      "12\n"
     ]
    }
   ],
   "source": [
    "# definition de la fonction add\n",
    "def add(a, b=1):\n",
    "    \"\"\" Retourne la somme des valeurs \"\"\"\n",
    "    result = a + b\n",
    "    return result\n",
    "\n",
    "# test de la fonction\n",
    "x = add(5); print(x)\n",
    "x = add(4, 8); print(x)"
   ]
  },
  {
   "cell_type": "markdown",
   "metadata": {},
   "source": [
    "## Retours multiples\n",
    "Il est possible de retourner plusieurs valeurs avec l'instruction `return`, en les séparant par des virgules. Les valeurs sont alors retournées sous la forme d'un tuple (voir le module Numpy):"
   ]
  },
  {
   "cell_type": "code",
   "execution_count": 15,
   "metadata": {
    "execution": {
     "iopub.execute_input": "2020-09-29T09:31:59.935417Z",
     "iopub.status.busy": "2020-09-29T09:31:59.933752Z",
     "iopub.status.idle": "2020-09-29T09:31:59.937247Z",
     "shell.execute_reply": "2020-09-29T09:31:59.936782Z"
    },
    "tags": []
   },
   "outputs": [
    {
     "name": "stdout",
     "output_type": "stream",
     "text": [
      "('Le mercredi, je suis content', 28)\n"
     ]
    }
   ],
   "source": [
    "# definition de la fonction state\n",
    "def state(mot, jour = \"lundi\"):\n",
    "    \"\"\" Affiche à l'écran mon état et le nombre de charactères\"\"\"\n",
    "    my_state = \"Le \" + jour + \", je suis \" + mot\n",
    "    my_state_lenght = len(my_state)\n",
    "    return (my_state, my_state_lenght)\n",
    "\n",
    "# appel de la fonction\n",
    "t = state(\"content\", \"mercredi\")\n",
    "print(t)"
   ]
  },
  {
   "cell_type": "markdown",
   "metadata": {},
   "source": [
    "Vérifions que l'objet retourné est bien un *tuple* avec 2 éléments:"
   ]
  },
  {
   "cell_type": "code",
   "execution_count": 16,
   "metadata": {
    "execution": {
     "iopub.execute_input": "2020-09-29T09:31:59.943061Z",
     "iopub.status.busy": "2020-09-29T09:31:59.941520Z",
     "iopub.status.idle": "2020-09-29T09:31:59.944854Z",
     "shell.execute_reply": "2020-09-29T09:31:59.944396Z"
    },
    "tags": []
   },
   "outputs": [
    {
     "name": "stdout",
     "output_type": "stream",
     "text": [
      "<class 'tuple'>\n",
      "2\n"
     ]
    }
   ],
   "source": [
    "print(type(t))\n",
    "print(len(t))"
   ]
  },
  {
   "cell_type": "markdown",
   "metadata": {},
   "source": [
    "Dans l'exemple, on a affecté le tuple à une nouvelle variable. Il est aussi possible d'affecter directement les 2 éléments du tuple dans deux nouvelles variables:"
   ]
  },
  {
   "cell_type": "code",
   "execution_count": 17,
   "metadata": {
    "execution": {
     "iopub.execute_input": "2020-09-29T09:31:59.951632Z",
     "iopub.status.busy": "2020-09-29T09:31:59.949966Z",
     "iopub.status.idle": "2020-09-29T09:31:59.953498Z",
     "shell.execute_reply": "2020-09-29T09:31:59.953052Z"
    },
    "tags": []
   },
   "outputs": [
    {
     "name": "stdout",
     "output_type": "stream",
     "text": [
      "Le mercredi, je suis content\n",
      "Cette phrase contient 28 charactères\n"
     ]
    }
   ],
   "source": [
    "# appel de la fonction\n",
    "s, l = state(\"content\", \"mercredi\")\n",
    "print(s)\n",
    "print(\"Cette phrase contient\", l, \"charactères\")"
   ]
  },
  {
   "cell_type": "markdown",
   "metadata": {},
   "source": [
    "### Exercice\n",
    "Créer une fonction de signature `addmul(a,b)` qui retourne la somme et le produit de `a` et `b`. Documentez et testez votre fonction."
   ]
  },
  {
   "cell_type": "code",
   "execution_count": 18,
   "metadata": {
    "execution": {
     "iopub.execute_input": "2020-09-29T09:31:59.960240Z",
     "iopub.status.busy": "2020-09-29T09:31:59.959042Z",
     "iopub.status.idle": "2020-09-29T09:31:59.962114Z",
     "shell.execute_reply": "2020-09-29T09:31:59.962525Z"
    },
    "tags": [
     "solution"
    ]
   },
   "outputs": [
    {
     "data": {
      "text/plain": [
       "(8, 12)"
      ]
     },
     "execution_count": 1,
     "metadata": {},
     "output_type": "execute_result"
    }
   ],
   "source": [
    "# définition de la fonction addmul\n",
    "def addmul(a,b):\n",
    "    \"\"\" Retourne la somme et le produit de a et b \"\"\"\n",
    "    somme = a + b\n",
    "    produit = a * b\n",
    "    return (somme, produit)\n",
    "\n",
    "# test de la fonction\n",
    "addmul(2,6)"
   ]
  },
  {
   "cell_type": "markdown",
   "metadata": {},
   "source": [
    "## Forme Lambda\n",
    "Reprenons la fonction de signature `state(mot)`:"
   ]
  },
  {
   "cell_type": "code",
   "execution_count": 19,
   "metadata": {
    "execution": {
     "iopub.execute_input": "2020-09-29T09:31:59.968331Z",
     "iopub.status.busy": "2020-09-29T09:31:59.967623Z",
     "iopub.status.idle": "2020-09-29T09:31:59.970651Z",
     "shell.execute_reply": "2020-09-29T09:31:59.971120Z"
    }
   },
   "outputs": [
    {
     "data": {
      "text/plain": [
       "'je suis en forme'"
      ]
     },
     "execution_count": 1,
     "metadata": {},
     "output_type": "execute_result"
    }
   ],
   "source": [
    "# definition de la fonction state\n",
    "def state(mot):\n",
    "    my_state = \"je suis \" + mot\n",
    "    return my_state\n",
    "\n",
    "# appel de la fonction\n",
    "state(\"en forme\")"
   ]
  },
  {
   "cell_type": "markdown",
   "metadata": {},
   "source": [
    "La forme *lambda* de cette fonction est:"
   ]
  },
  {
   "cell_type": "code",
   "execution_count": 20,
   "metadata": {
    "execution": {
     "iopub.execute_input": "2020-09-29T09:31:59.976472Z",
     "iopub.status.busy": "2020-09-29T09:31:59.975765Z",
     "iopub.status.idle": "2020-09-29T09:31:59.979308Z",
     "shell.execute_reply": "2020-09-29T09:31:59.978832Z"
    },
    "tags": []
   },
   "outputs": [
    {
     "data": {
      "text/plain": [
       "<function __main__.<lambda>(mot)>"
      ]
     },
     "execution_count": 1,
     "metadata": {},
     "output_type": "execute_result"
    }
   ],
   "source": [
    "# forme lambda\n",
    "lambda mot : \"je suis \" + mot"
   ]
  },
  {
   "cell_type": "markdown",
   "metadata": {},
   "source": [
    "Cette expression est formée du mot-clef `lambda`, de la variable `mot` et de l'instruction `\"je suis \" + mot`. Vous notez que la forme lamda ici n'a pas de nom, contrairement à une fonction définie avec le mot-clef `def`. C'est une *fonction anonyme*."
   ]
  },
  {
   "cell_type": "markdown",
   "metadata": {},
   "source": [
    "Ainsi, la syntaxe générale est:\n",
    "\n",
    "    > `lambda nom_variable : instruction`\n",
    "\n",
    "Pour donner une valeur d'entrée à la forme lambda, on écrit:"
   ]
  },
  {
   "cell_type": "code",
   "execution_count": 21,
   "metadata": {
    "execution": {
     "iopub.execute_input": "2020-09-29T09:31:59.984237Z",
     "iopub.status.busy": "2020-09-29T09:31:59.983563Z",
     "iopub.status.idle": "2020-09-29T09:31:59.986345Z",
     "shell.execute_reply": "2020-09-29T09:31:59.986792Z"
    }
   },
   "outputs": [
    {
     "data": {
      "text/plain": [
       "'je suis en forme'"
      ]
     },
     "execution_count": 1,
     "metadata": {},
     "output_type": "execute_result"
    }
   ],
   "source": [
    "(lambda mot : \"je suis \" + mot)(\"en forme\")"
   ]
  },
  {
   "cell_type": "markdown",
   "metadata": {},
   "source": [
    "On peut aussi donner un nom à la forme lambda:"
   ]
  },
  {
   "cell_type": "code",
   "execution_count": 22,
   "metadata": {
    "execution": {
     "iopub.execute_input": "2020-09-29T09:31:59.992167Z",
     "iopub.status.busy": "2020-09-29T09:31:59.991495Z",
     "iopub.status.idle": "2020-09-29T09:31:59.994438Z",
     "shell.execute_reply": "2020-09-29T09:31:59.994845Z"
    }
   },
   "outputs": [
    {
     "data": {
      "text/plain": [
       "'je suis en forme'"
      ]
     },
     "execution_count": 1,
     "metadata": {},
     "output_type": "execute_result"
    }
   ],
   "source": [
    "# forme lambda\n",
    "state_lambda = lambda mot : \"je suis \" + mot\n",
    "\n",
    "# appel\n",
    "state_lambda(\"en forme\")"
   ]
  },
  {
   "cell_type": "markdown",
   "metadata": {},
   "source": [
    "Il est possible de faire des formes lambda plus compliquées. Par exemple:"
   ]
  },
  {
   "cell_type": "code",
   "execution_count": 23,
   "metadata": {
    "execution": {
     "iopub.execute_input": "2020-09-29T09:32:00.000698Z",
     "iopub.status.busy": "2020-09-29T09:31:59.999993Z",
     "iopub.status.idle": "2020-09-29T09:32:00.003065Z",
     "shell.execute_reply": "2020-09-29T09:32:00.003491Z"
    }
   },
   "outputs": [
    {
     "data": {
      "text/plain": [
       "('Le mercredi, je suis content', 21)"
      ]
     },
     "execution_count": 1,
     "metadata": {},
     "output_type": "execute_result"
    }
   ],
   "source": [
    "(lambda mot, jour = \"lundi\" : (\"Le \" + jour + \", je suis \" + mot, len(\"Le \" + jour + \", je suis \")))(\"content\", \"mercredi\")"
   ]
  },
  {
   "cell_type": "markdown",
   "metadata": {},
   "source": [
    "Cependant, ce n'est pas lisible et une fonction classique est mieux adaptée dans ce cas."
   ]
  },
  {
   "cell_type": "markdown",
   "metadata": {},
   "source": [
    "### Exercice\n",
    "Créer une forme lambda qui retourne le carré d'un argument, et testez-là."
   ]
  },
  {
   "cell_type": "code",
   "execution_count": 24,
   "metadata": {
    "execution": {
     "iopub.execute_input": "2020-09-29T09:32:00.008937Z",
     "iopub.status.busy": "2020-09-29T09:32:00.008201Z",
     "iopub.status.idle": "2020-09-29T09:32:00.011274Z",
     "shell.execute_reply": "2020-09-29T09:32:00.011698Z"
    }
   },
   "outputs": [
    {
     "data": {
      "text/plain": [
       "25"
      ]
     },
     "execution_count": 1,
     "metadata": {},
     "output_type": "execute_result"
    }
   ],
   "source": [
    "# forme lambda\n",
    "(lambda x : x*x)(5)"
   ]
  }
 ],
 "metadata": {
  "kernelspec": {
   "display_name": "Python 3",
   "language": "python",
   "name": "python3"
  },
  "language_info": {
   "codemirror_mode": {
    "name": "ipython",
    "version": 3
   },
   "file_extension": ".py",
   "mimetype": "text/x-python",
   "name": "python",
   "nbconvert_exporter": "python",
   "pygments_lexer": "ipython3",
   "version": "3.6.7"
  }
 },
 "nbformat": 4,
 "nbformat_minor": 4
}
