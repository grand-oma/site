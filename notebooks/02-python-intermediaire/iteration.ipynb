{
 "cells": [
  {
   "cell_type": "markdown",
   "metadata": {},
   "source": [
    "# Itération\n",
    "L'itération est la capacité d'exécuter à plusieurs reprises un bloc d'instructions."
   ]
  },
  {
   "cell_type": "markdown",
   "metadata": {},
   "source": [
    "## Mise à jour d'une variable\n",
    "On appelle **mise à jour** de la variable lorsque la valeur de ré-affectation d'une variable dépend de son ancienne valeur. Par exemple:"
   ]
  },
  {
   "cell_type": "code",
   "execution_count": 1,
   "metadata": {
    "execution": {
     "iopub.execute_input": "2020-09-29T09:32:02.207069Z",
     "iopub.status.busy": "2020-09-29T09:32:02.206136Z",
     "iopub.status.idle": "2020-09-29T09:32:02.210091Z",
     "shell.execute_reply": "2020-09-29T09:32:02.209601Z"
    }
   },
   "outputs": [],
   "source": [
    "# creation et affectation de la variable x (initialisation)\n",
    "x = 0\n",
    "\n",
    "# mise à jour de la variable x\n",
    "x = x + 1"
   ]
  },
  {
   "cell_type": "markdown",
   "metadata": {},
   "source": [
    "Si on ajoute 1 à la valeur de la variable, on appelle cela une **incrémentation**. Si on enlève 1, c'est une **décrémentation**."
   ]
  },
  {
   "cell_type": "markdown",
   "metadata": {},
   "source": [
    "## L'instruction `while`\n",
    "L'instruction `while` signifie *tant que*. Elle est suivie d'une condition. C'est une façon de répéter une instruction `if`. Voici un exemple de compte à rebours:"
   ]
  },
  {
   "cell_type": "code",
   "execution_count": 2,
   "metadata": {
    "execution": {
     "iopub.execute_input": "2020-09-29T09:32:02.216739Z",
     "iopub.status.busy": "2020-09-29T09:32:02.215141Z",
     "iopub.status.idle": "2020-09-29T09:32:02.218693Z",
     "shell.execute_reply": "2020-09-29T09:32:02.218231Z"
    },
    "tags": []
   },
   "outputs": [
    {
     "name": "stdout",
     "output_type": "stream",
     "text": [
      "3\n",
      "2\n",
      "1\n",
      "partez!\n"
     ]
    }
   ],
   "source": [
    "# initialisation\n",
    "n = 3\n",
    "\n",
    "# compte à rebours\n",
    "while n > 0:\n",
    "    print(n)\n",
    "    n = n - 1\n",
    "print(\"partez!\")"
   ]
  },
  {
   "cell_type": "markdown",
   "metadata": {},
   "source": [
    "La variable `n` est initialisée à 3. Lors de la première exécution de l'instruction `while`, `n` vaut 3 et donc la condition `n > 0` est vraie. Le bloc d'instruction (indenté) est alors exécuté: on affiche 3 à l'écran, et `n` est incrémenté. C'est la première **itération**. Lors de la deuxième itération, `n` vaut 2. La condition est toujours vraie donc le bloc d'instruction est exécuté une deuxième fois. Idem pour la troisième itération où `n` vaut 1. Lors de la quatrième itération, `n` vaut 0 donc la condition est fausse: le bloc d'instruction n'est pas exécuté et on passe à la première instruction après le `while` qui n'est pas indentée.\n",
    "\n",
    "Le *flux d'exécution* pour une instruction `while` est:\n",
    "\n",
    "1. Déterminer si la condition est vraie ou fausse ;\n",
    "2. Si elle est fausse, passer le bloc d'instruction (indenté) suivant l'instruction `while`, et poursuivre l'exécution à l'instruction suivante ;\n",
    "3. Si la condition est vraie, exécutez le bloc d'instruction, puis retournez à l'étape 1.\n",
    "\n",
    "Ce type de flux est une **boucle** car l'étape 3 *reboucle* à l'étape 1. Le bloc d'instruction doit changer la valeur d'au moins une variable pour que la condition finisse par devenir fausse au bout d'un certain nombre d'itérations. Si ce n'est pas le cas, on aura alors une **boucle infinie**, car le bloc d'instruction sera répété à l'infini. Il faudra alors interrompre le programme d'une manière ou d'une autre."
   ]
  },
  {
   "cell_type": "markdown",
   "metadata": {},
   "source": [
    "### Exercice\n",
    "Initialisez une variable appelée `x` à 40. Créer une boucle `while` qui, tant que `x` est supérieur à 1, divise `x` par 4. A la sortie de la boucle, afficher à l'écran la valeur de `x`."
   ]
  },
  {
   "cell_type": "code",
   "execution_count": 3,
   "metadata": {
    "execution": {
     "iopub.execute_input": "2020-09-29T09:32:02.224926Z",
     "iopub.status.busy": "2020-09-29T09:32:02.223285Z",
     "iopub.status.idle": "2020-09-29T09:32:02.226793Z",
     "shell.execute_reply": "2020-09-29T09:32:02.226300Z"
    },
    "tags": [
     "solution"
    ]
   },
   "outputs": [
    {
     "name": "stdout",
     "output_type": "stream",
     "text": [
      "0.625\n"
     ]
    }
   ],
   "source": [
    "# initialisation\n",
    "x = 40\n",
    "\n",
    "# boucle while\n",
    "while x > 1:\n",
    "    x = x / 4.0\n",
    "\n",
    "# afficher le résultat\n",
    "print(x) "
   ]
  },
  {
   "cell_type": "markdown",
   "metadata": {},
   "source": [
    "## L'instruction `break`\n",
    "Il arrive que nous voulions arrêter la boucle `while` à l'intérieur du bloc d'instruction, si une certaine condition est vraie. Dans ce cas on ne laisse pas la boucle aller jusqu'au bout. Pour cela on peut utiliser l'instruction `break` pour forcer à sortir de la boucle.\n",
    "\n",
    "Reprenons l'exemple du compte à rebours:"
   ]
  },
  {
   "cell_type": "code",
   "execution_count": 4,
   "metadata": {
    "execution": {
     "iopub.execute_input": "2020-09-29T09:32:02.233178Z",
     "iopub.status.busy": "2020-09-29T09:32:02.231555Z",
     "iopub.status.idle": "2020-09-29T09:32:02.235001Z",
     "shell.execute_reply": "2020-09-29T09:32:02.234540Z"
    },
    "tags": []
   },
   "outputs": [
    {
     "name": "stdout",
     "output_type": "stream",
     "text": [
      "n doit être entier\n"
     ]
    }
   ],
   "source": [
    "# initialisation\n",
    "n = 5.8\n",
    "\n",
    "# compte à rebours\n",
    "while n > 0:\n",
    "    if n % 1 != 0:\n",
    "        print(\"n doit être entier\")\n",
    "        break\n",
    "    print(n)\n",
    "    n = n - 1"
   ]
  },
  {
   "cell_type": "markdown",
   "metadata": {},
   "source": [
    "Dans cet exemple on vérifie si le compteur du compte à rebours est bien un entier, à l'intérieur de la boucle. Si ce n'est pas le cas, alors on n'exécute pas la boucle et on affiche un message d'erreur à l'utilisateur."
   ]
  },
  {
   "cell_type": "markdown",
   "metadata": {},
   "source": [
    "### Exercice\n",
    "Reprendre l'exercice précédent. Dans la boucle, ajouter une condition qui vérifie que `x` est un nombre pair. Si ce n'est pas le cas, afficher le message d'erreur `\"x doit être pair\"` et sortir de la boucle."
   ]
  },
  {
   "cell_type": "code",
   "execution_count": 5,
   "metadata": {
    "execution": {
     "iopub.execute_input": "2020-09-29T09:32:02.241399Z",
     "iopub.status.busy": "2020-09-29T09:32:02.239785Z",
     "iopub.status.idle": "2020-09-29T09:32:02.243222Z",
     "shell.execute_reply": "2020-09-29T09:32:02.242777Z"
    },
    "tags": [
     "solution"
    ]
   },
   "outputs": [
    {
     "name": "stdout",
     "output_type": "stream",
     "text": [
      "x doit être pair\n"
     ]
    }
   ],
   "source": [
    "# initialisation\n",
    "x = 41\n",
    "\n",
    "# boucle while\n",
    "while x > 1:\n",
    "    if x % 2 != 0:\n",
    "        print(\"x doit être pair\")\n",
    "        break\n",
    "    x = x / 4.0"
   ]
  },
  {
   "cell_type": "markdown",
   "metadata": {},
   "source": [
    "## L'instruction `for`\n",
    "L'instruction `for` est utilisée lorsque le nombre d'itération est connu à l'avance. Voici par exemple une version du compte à rebours utilisant une boucle `for`:"
   ]
  },
  {
   "cell_type": "code",
   "execution_count": 6,
   "metadata": {
    "execution": {
     "iopub.execute_input": "2020-09-29T09:32:02.249851Z",
     "iopub.status.busy": "2020-09-29T09:32:02.248283Z",
     "iopub.status.idle": "2020-09-29T09:32:02.251740Z",
     "shell.execute_reply": "2020-09-29T09:32:02.251265Z"
    },
    "tags": []
   },
   "outputs": [
    {
     "name": "stdout",
     "output_type": "stream",
     "text": [
      "3\n",
      "2\n",
      "1\n",
      "partez!\n"
     ]
    }
   ],
   "source": [
    "n = 3\n",
    "for i in range(n):\n",
    "    print(n - i)\n",
    "print(\"partez!\")"
   ]
  },
  {
   "cell_type": "markdown",
   "metadata": {},
   "source": [
    "L'instruction `range()` est un [type de Python](https://docs.python.org/fr/3/library/stdtypes.html?highlight=range#range) qui représente une séquence immuable de nombres. il s'utilise de la façon suivante:\n",
    "\n",
    "```\n",
    "range(start, stop, step)\n",
    "```\n",
    "\n",
    "où `start`, `stop` et `step` sont des entiers. La séquence créée contient alors des entiers dans l'intervalle `[start, stop[` (stop est exclu), avec un pas égal à `step`. Pour transformer l'objet de type `range` en objet de type `list`, on peut utiliser la fonction `list()`:"
   ]
  },
  {
   "cell_type": "code",
   "execution_count": 7,
   "metadata": {
    "execution": {
     "iopub.execute_input": "2020-09-29T09:32:02.264017Z",
     "iopub.status.busy": "2020-09-29T09:32:02.262396Z",
     "iopub.status.idle": "2020-09-29T09:32:02.266158Z",
     "shell.execute_reply": "2020-09-29T09:32:02.265704Z"
    }
   },
   "outputs": [
    {
     "data": {
      "text/plain": [
       "[2, 5, 8, 11]"
      ]
     },
     "execution_count": 1,
     "metadata": {},
     "output_type": "execute_result"
    }
   ],
   "source": [
    "list(range(2, 14, 3))"
   ]
  },
  {
   "cell_type": "markdown",
   "metadata": {},
   "source": [
    "### Exercice\n",
    "Créer une boucle `for` qui affiche les multiples de 4 compris entre 1 et 20."
   ]
  },
  {
   "cell_type": "code",
   "execution_count": 8,
   "metadata": {
    "execution": {
     "iopub.execute_input": "2020-09-29T09:32:02.272351Z",
     "iopub.status.busy": "2020-09-29T09:32:02.270915Z",
     "iopub.status.idle": "2020-09-29T09:32:02.274255Z",
     "shell.execute_reply": "2020-09-29T09:32:02.273812Z"
    },
    "tags": [
     "solution"
    ]
   },
   "outputs": [
    {
     "name": "stdout",
     "output_type": "stream",
     "text": [
      "4\n",
      "8\n",
      "12\n",
      "16\n"
     ]
    }
   ],
   "source": [
    "for i in range(1,5):\n",
    "    print(4*i)"
   ]
  },
  {
   "cell_type": "code",
   "execution_count": 9,
   "metadata": {
    "execution": {
     "iopub.execute_input": "2020-09-29T09:32:02.280453Z",
     "iopub.status.busy": "2020-09-29T09:32:02.278983Z",
     "iopub.status.idle": "2020-09-29T09:32:02.282633Z",
     "shell.execute_reply": "2020-09-29T09:32:02.281921Z"
    },
    "tags": [
     "solution"
    ]
   },
   "outputs": [
    {
     "name": "stdout",
     "output_type": "stream",
     "text": [
      "4\n",
      "8\n",
      "12\n",
      "16\n"
     ]
    }
   ],
   "source": [
    "# ou bien\n",
    "for i in range(1,20):\n",
    "    if i % 4 == 0:\n",
    "        print(i)"
   ]
  },
  {
   "cell_type": "markdown",
   "metadata": {},
   "source": [
    "## Itérer sur une liste\n",
    "Une particularité de Python est de pouvoir itérer sur de nombreux objets composés. En particulier, il est possible d'itérer sur les éléments d'une liste:"
   ]
  },
  {
   "cell_type": "code",
   "execution_count": 10,
   "metadata": {
    "execution": {
     "iopub.execute_input": "2020-09-29T09:32:02.288931Z",
     "iopub.status.busy": "2020-09-29T09:32:02.287418Z",
     "iopub.status.idle": "2020-09-29T09:32:02.290789Z",
     "shell.execute_reply": "2020-09-29T09:32:02.290310Z"
    },
    "tags": []
   },
   "outputs": [
    {
     "name": "stdout",
     "output_type": "stream",
     "text": [
      "b\n",
      "2\n",
      "True\n",
      "5.897\n"
     ]
    }
   ],
   "source": [
    "# creation d'une liste\n",
    "L = ['b', 2, True, 5.897]\n",
    "\n",
    "# iteration sur les elements de la liste\n",
    "for x in L:\n",
    "    print(x)"
   ]
  },
  {
   "cell_type": "markdown",
   "metadata": {},
   "source": [
    "Il est possible d'accéder aussi à l'indice de l'élément avec la fonction `enumerate()`: "
   ]
  },
  {
   "cell_type": "code",
   "execution_count": 11,
   "metadata": {
    "execution": {
     "iopub.execute_input": "2020-09-29T09:32:02.298656Z",
     "iopub.status.busy": "2020-09-29T09:32:02.297090Z",
     "iopub.status.idle": "2020-09-29T09:32:02.300432Z",
     "shell.execute_reply": "2020-09-29T09:32:02.299996Z"
    },
    "tags": []
   },
   "outputs": [
    {
     "name": "stdout",
     "output_type": "stream",
     "text": [
      "indice 0 : b\n",
      "indice 1 : 2\n",
      "indice 2 : True\n",
      "indice 3 : 5.897\n"
     ]
    }
   ],
   "source": [
    "# iteration sur les indices et les elements de la liste\n",
    "for i, x in enumerate(L):\n",
    "    print('indice', i, ':', x)"
   ]
  },
  {
   "cell_type": "markdown",
   "metadata": {},
   "source": [
    "ou bien encore itérer sur une liste de liste:"
   ]
  },
  {
   "cell_type": "code",
   "execution_count": 12,
   "metadata": {
    "execution": {
     "iopub.execute_input": "2020-09-29T09:32:02.308194Z",
     "iopub.status.busy": "2020-09-29T09:32:02.307028Z",
     "iopub.status.idle": "2020-09-29T09:32:02.309977Z",
     "shell.execute_reply": "2020-09-29T09:32:02.310384Z"
    },
    "tags": []
   },
   "outputs": [
    {
     "name": "stdout",
     "output_type": "stream",
     "text": [
      "taille gentiane : 7.5 cm\n",
      "taille campanule : 5.8 cm\n",
      "taille pensée : 11.4 cm\n"
     ]
    }
   ],
   "source": [
    "# creation d'une liste de listes\n",
    "taille_plantes = [[\"gentiane\",  7.5 ], \n",
    "                  [\"campanule\", 5.8 ],\n",
    "                  [\"pensée\",    11.4]]\n",
    "\n",
    "# iteration\n",
    "for L in taille_plantes:\n",
    "    print('taille', L[0], ':', L[1], 'cm')"
   ]
  },
  {
   "cell_type": "markdown",
   "metadata": {},
   "source": [
    "### Exercice\n",
    "Créons la liste de liste donnant les superficie en m**2 des pièces d'une maison:"
   ]
  },
  {
   "cell_type": "code",
   "execution_count": 13,
   "metadata": {
    "execution": {
     "iopub.execute_input": "2020-09-29T09:32:02.315681Z",
     "iopub.status.busy": "2020-09-29T09:32:02.314158Z",
     "iopub.status.idle": "2020-09-29T09:32:02.316341Z",
     "shell.execute_reply": "2020-09-29T09:32:02.316797Z"
    }
   },
   "outputs": [],
   "source": [
    "maison = [[\"cuisine\", 18.0], \n",
    "          [\"salon\", 20.0], \n",
    "          [\"chambre\", 10.75], \n",
    "          [\"salle de bains\", 9.50]]"
   ]
  },
  {
   "cell_type": "markdown",
   "metadata": {},
   "source": [
    "En utilisant une boucle `for`, afficher pour chaque pièce le numéro de la pièce (en commençant par 1), le nom de la pièce et sa superficie, sous la forme `Pièce n: nom (superficie)`. Par exemple, pour la première itération: `Pièce 1: cuisine (18.0 m**2)`."
   ]
  },
  {
   "cell_type": "code",
   "execution_count": 14,
   "metadata": {
    "execution": {
     "iopub.execute_input": "2020-09-29T09:32:02.323327Z",
     "iopub.status.busy": "2020-09-29T09:32:02.321803Z",
     "iopub.status.idle": "2020-09-29T09:32:02.325049Z",
     "shell.execute_reply": "2020-09-29T09:32:02.324585Z"
    },
    "tags": [
     "solution"
    ]
   },
   "outputs": [
    {
     "name": "stdout",
     "output_type": "stream",
     "text": [
      "Pièce 1: cuisine (18.0 m**2)\n",
      "Pièce 2: salon (20.0 m**2)\n",
      "Pièce 3: chambre (10.75 m**2)\n",
      "Pièce 4: salle de bains (9.5 m**2)\n"
     ]
    }
   ],
   "source": [
    "for i, L in enumerate(maison):\n",
    "    print(\"Pièce \" + str(i+1) + \": \" + L[0] + \" (\" + str(L[1]) + \" m**2)\")"
   ]
  },
  {
   "cell_type": "markdown",
   "metadata": {},
   "source": [
    "## itérer sur un dictionnaire\n",
    "Il est très simple d'itérer sur un dictionnaire avec la méthode `.items()`:"
   ]
  },
  {
   "cell_type": "code",
   "execution_count": 15,
   "metadata": {
    "execution": {
     "iopub.execute_input": "2020-09-29T09:32:02.330009Z",
     "iopub.status.busy": "2020-09-29T09:32:02.329370Z",
     "iopub.status.idle": "2020-09-29T09:32:02.333939Z",
     "shell.execute_reply": "2020-09-29T09:32:02.333508Z"
    },
    "tags": []
   },
   "outputs": [
    {
     "name": "stdout",
     "output_type": "stream",
     "text": [
      "gentiane -- 7.5 cm\n",
      "campanule -- 5.8 cm\n",
      "pensée -- 11.4 cm\n"
     ]
    }
   ],
   "source": [
    "# creation d'un dictionnaire\n",
    "dic_taille_plantes = {\"gentiane\"  : 7.5, \n",
    "                      \"campanule\" : 5.8,\n",
    "                      \"pensée\"    : 11.4}\n",
    "\n",
    "# iterer sur le dictionnaire\n",
    "for key, values in dic_taille_plantes.items():\n",
    "    print(key + \" -- \" + str(values) + \" cm\")"
   ]
  },
  {
   "cell_type": "markdown",
   "metadata": {},
   "source": [
    "## Itérer sur un tableau Numpy\n",
    "Pour itérer sur un tableau 1D c'est aussi simple que:"
   ]
  },
  {
   "cell_type": "code",
   "execution_count": 16,
   "metadata": {
    "execution": {
     "iopub.execute_input": "2020-09-29T09:32:02.338815Z",
     "iopub.status.busy": "2020-09-29T09:32:02.337948Z",
     "iopub.status.idle": "2020-09-29T09:32:02.469291Z",
     "shell.execute_reply": "2020-09-29T09:32:02.469730Z"
    },
    "tags": []
   },
   "outputs": [
    {
     "name": "stdout",
     "output_type": "stream",
     "text": [
      "4\n",
      "6\n",
      "1\n"
     ]
    }
   ],
   "source": [
    "# importation du module numpy\n",
    "import numpy as np\n",
    "\n",
    "# creation du tableau Numpy\n",
    "A = np.array([4, 6, 1])\n",
    "\n",
    "# iterer sur le tableau Numpy\n",
    "for i in A:\n",
    "    print(i)"
   ]
  },
  {
   "cell_type": "markdown",
   "metadata": {},
   "source": [
    "Si on veut itérer sur tous les éléments d'un tableau 2D, on peut utiliser la fonction Numpy `nditer()`:"
   ]
  },
  {
   "cell_type": "code",
   "execution_count": 17,
   "metadata": {
    "execution": {
     "iopub.execute_input": "2020-09-29T09:32:02.476209Z",
     "iopub.status.busy": "2020-09-29T09:32:02.475522Z",
     "iopub.status.idle": "2020-09-29T09:32:02.478897Z",
     "shell.execute_reply": "2020-09-29T09:32:02.478428Z"
    },
    "tags": []
   },
   "outputs": [
    {
     "name": "stdout",
     "output_type": "stream",
     "text": [
      "1\n",
      "7\n",
      "8\n",
      "0\n"
     ]
    }
   ],
   "source": [
    "# Création du tableau Numpy à 2 dimensions\n",
    "B = np.array([[1, 7],\n",
    "              [8, 0]])\n",
    "\n",
    "# iterer sur tous les elements du tableau 2D\n",
    "for x in np.nditer(B):\n",
    "    print(x)"
   ]
  },
  {
   "cell_type": "markdown",
   "metadata": {},
   "source": [
    "## Itérer sur un `DataFrame`\n",
    "Il est possible d'itérer sur les différentes observations d'un DataFrame en utilisant la méthode `.iterrows()`.\n",
    "\n",
    "Par exemple, créons un DataFrame à partir d'un dictionnaire donnant les tailles de 3 de nos plantes pendant 4 jours, avec une observation par jour:"
   ]
  },
  {
   "cell_type": "code",
   "execution_count": 18,
   "metadata": {
    "execution": {
     "iopub.execute_input": "2020-09-29T09:32:02.484840Z",
     "iopub.status.busy": "2020-09-29T09:32:02.483943Z",
     "iopub.status.idle": "2020-09-29T09:32:02.714760Z",
     "shell.execute_reply": "2020-09-29T09:32:02.714262Z"
    },
    "tags": []
   },
   "outputs": [],
   "source": [
    "# importation du module Pandas\n",
    "import pandas as pd\n",
    "\n",
    "# creation d'un dictionnaire\n",
    "dic_taille_plantes = {\"gentiane\"  : [7.5, 7.8, 8.3, 8.4], \n",
    "                      \"campanule\" : [5.8, 6.6, 7.4, 8.3],\n",
    "                      \"pensée\"    : [11.4, 11.6, 11.7, 11.7]}\n",
    "\n",
    "# création du DataFrame\n",
    "df_taille_plantes = pd.DataFrame(data = dic_taille_plantes, index = range(1,5))"
   ]
  },
  {
   "cell_type": "markdown",
   "metadata": {},
   "source": [
    "Voici notre DataFrame:"
   ]
  },
  {
   "cell_type": "code",
   "execution_count": 19,
   "metadata": {
    "execution": {
     "iopub.execute_input": "2020-09-29T09:32:02.728783Z",
     "iopub.status.busy": "2020-09-29T09:32:02.724374Z",
     "iopub.status.idle": "2020-09-29T09:32:02.731335Z",
     "shell.execute_reply": "2020-09-29T09:32:02.731750Z"
    }
   },
   "outputs": [
    {
     "data": {
      "text/html": [
       "<div>\n",
       "<style scoped>\n",
       "    .dataframe tbody tr th:only-of-type {\n",
       "        vertical-align: middle;\n",
       "    }\n",
       "\n",
       "    .dataframe tbody tr th {\n",
       "        vertical-align: top;\n",
       "    }\n",
       "\n",
       "    .dataframe thead th {\n",
       "        text-align: right;\n",
       "    }\n",
       "</style>\n",
       "<table border=\"1\" class=\"dataframe\">\n",
       "  <thead>\n",
       "    <tr style=\"text-align: right;\">\n",
       "      <th></th>\n",
       "      <th>gentiane</th>\n",
       "      <th>campanule</th>\n",
       "      <th>pensée</th>\n",
       "    </tr>\n",
       "  </thead>\n",
       "  <tbody>\n",
       "    <tr>\n",
       "      <th>1</th>\n",
       "      <td>7.5</td>\n",
       "      <td>5.8</td>\n",
       "      <td>11.4</td>\n",
       "    </tr>\n",
       "    <tr>\n",
       "      <th>2</th>\n",
       "      <td>7.8</td>\n",
       "      <td>6.6</td>\n",
       "      <td>11.6</td>\n",
       "    </tr>\n",
       "    <tr>\n",
       "      <th>3</th>\n",
       "      <td>8.3</td>\n",
       "      <td>7.4</td>\n",
       "      <td>11.7</td>\n",
       "    </tr>\n",
       "    <tr>\n",
       "      <th>4</th>\n",
       "      <td>8.4</td>\n",
       "      <td>8.3</td>\n",
       "      <td>11.7</td>\n",
       "    </tr>\n",
       "  </tbody>\n",
       "</table>\n",
       "</div>"
      ],
      "text/plain": [
       "   gentiane  campanule  pensée\n",
       "1       7.5        5.8    11.4\n",
       "2       7.8        6.6    11.6\n",
       "3       8.3        7.4    11.7\n",
       "4       8.4        8.3    11.7"
      ]
     },
     "execution_count": 1,
     "metadata": {},
     "output_type": "execute_result"
    }
   ],
   "source": [
    "df_taille_plantes"
   ]
  },
  {
   "cell_type": "markdown",
   "metadata": {},
   "source": [
    "sur lequel nous itérons chaque observation (une observation par jour, en commençant par le jour 1):"
   ]
  },
  {
   "cell_type": "code",
   "execution_count": 20,
   "metadata": {
    "execution": {
     "iopub.execute_input": "2020-09-29T09:32:02.740441Z",
     "iopub.status.busy": "2020-09-29T09:32:02.737873Z",
     "iopub.status.idle": "2020-09-29T09:32:02.744859Z",
     "shell.execute_reply": "2020-09-29T09:32:02.744363Z"
    },
    "tags": []
   },
   "outputs": [
    {
     "name": "stdout",
     "output_type": "stream",
     "text": [
      "jour 1\n",
      "gentiane      7.5\n",
      "campanule     5.8\n",
      "pensée       11.4\n",
      "Name: 1, dtype: float64\n",
      "\n",
      "jour 2\n",
      "gentiane      7.8\n",
      "campanule     6.6\n",
      "pensée       11.6\n",
      "Name: 2, dtype: float64\n",
      "\n",
      "jour 3\n",
      "gentiane      8.3\n",
      "campanule     7.4\n",
      "pensée       11.7\n",
      "Name: 3, dtype: float64\n",
      "\n",
      "jour 4\n",
      "gentiane      8.4\n",
      "campanule     8.3\n",
      "pensée       11.7\n",
      "Name: 4, dtype: float64\n",
      "\n"
     ]
    }
   ],
   "source": [
    "for label, row in df_taille_plantes.iterrows():\n",
    "    print(\"jour\", label)\n",
    "    print(row)\n",
    "    print()"
   ]
  },
  {
   "cell_type": "markdown",
   "metadata": {},
   "source": [
    "Dans la boucle, la variable `row` extrait avec la méthode `.iterrows()` est un objet de type `Series`. Cet objet est construit avec comme Index le nom des colonnes, et comme nom l'Index de la ligne correspondante du DataFrame. Le tableau est en quelque sorte renversé pour produire une série d'observations pour chaque jour.\n",
    "\n",
    "Il est alors facile d'extraire les observations correspondant seulement à une plante donnée:"
   ]
  },
  {
   "cell_type": "code",
   "execution_count": 21,
   "metadata": {
    "execution": {
     "iopub.execute_input": "2020-09-29T09:32:02.752114Z",
     "iopub.status.busy": "2020-09-29T09:32:02.750480Z",
     "iopub.status.idle": "2020-09-29T09:32:02.753885Z",
     "shell.execute_reply": "2020-09-29T09:32:02.753426Z"
    },
    "tags": []
   },
   "outputs": [
    {
     "name": "stdout",
     "output_type": "stream",
     "text": [
      "jour 1 : 7.5\n",
      "jour 2 : 7.8\n",
      "jour 3 : 8.3\n",
      "jour 4 : 8.4\n"
     ]
    }
   ],
   "source": [
    "for label, row in df_taille_plantes.iterrows():\n",
    "    print(\"jour \" + str(label) + \" : \" + str(row[\"gentiane\"]))"
   ]
  },
  {
   "cell_type": "markdown",
   "metadata": {},
   "source": [
    "Il est aussi possible d'itérer sur les colonnes de l'objet DataFrame avec la méthode `.iteritems()`:"
   ]
  },
  {
   "cell_type": "code",
   "execution_count": 22,
   "metadata": {
    "execution": {
     "iopub.execute_input": "2020-09-29T09:32:02.761695Z",
     "iopub.status.busy": "2020-09-29T09:32:02.759287Z",
     "iopub.status.idle": "2020-09-29T09:32:02.764075Z",
     "shell.execute_reply": "2020-09-29T09:32:02.764479Z"
    },
    "tags": []
   },
   "outputs": [
    {
     "name": "stdout",
     "output_type": "stream",
     "text": [
      "Plante: gentiane\n",
      "1    7.5\n",
      "2    7.8\n",
      "3    8.3\n",
      "4    8.4\n",
      "Name: gentiane, dtype: float64\n",
      "\n",
      "Plante: campanule\n",
      "1    5.8\n",
      "2    6.6\n",
      "3    7.4\n",
      "4    8.3\n",
      "Name: campanule, dtype: float64\n",
      "\n",
      "Plante: pensée\n",
      "1    11.4\n",
      "2    11.6\n",
      "3    11.7\n",
      "4    11.7\n",
      "Name: pensée, dtype: float64\n",
      "\n"
     ]
    }
   ],
   "source": [
    "for label, col in df_taille_plantes.iteritems():\n",
    "    print(\"Plante: \" + label)\n",
    "    print(col)\n",
    "    print()"
   ]
  },
  {
   "cell_type": "markdown",
   "metadata": {},
   "source": [
    "On voit que la variable `col` est un objet `Series` contenant toutes les observations correspondant à une colonne donnée, c'est-à-dire à une plante donnée."
   ]
  },
  {
   "cell_type": "markdown",
   "metadata": {},
   "source": [
    "### Exercice\n",
    "Importons les données sauvées dans le fichier pickle contenant l'objet DataFrame sur les pays de l'Union européenne:"
   ]
  },
  {
   "cell_type": "code",
   "execution_count": 23,
   "metadata": {
    "execution": {
     "iopub.execute_input": "2020-09-29T09:32:02.771784Z",
     "iopub.status.busy": "2020-09-29T09:32:02.770139Z",
     "iopub.status.idle": "2020-09-29T09:32:02.772374Z",
     "shell.execute_reply": "2020-09-29T09:32:02.772836Z"
    }
   },
   "outputs": [],
   "source": [
    "df_europe = pd.read_pickle('europe.pkl')"
   ]
  },
  {
   "cell_type": "markdown",
   "metadata": {},
   "source": [
    "1. Créer une copie de cet objet appelée `df_europe_cp` avec [la méthode](https://pandas.pydata.org/pandas-docs/stable/reference/api/pandas.DataFrame.copy.html?highlight=copy#pandas.DataFrame.copy) `.copy()`\n",
    "2. A l'aide d'une boucle `for`, écrire chaque pays et capitale sous la forme `Pays: Capitale` (avec une majuscule pour la première lettre, on peut utliser la méthode `.capitalize()`). Par exemple pour la première itération: `Allemagne: Berlin`."
   ]
  },
  {
   "cell_type": "code",
   "execution_count": 24,
   "metadata": {
    "execution": {
     "iopub.execute_input": "2020-09-29T09:32:02.788087Z",
     "iopub.status.busy": "2020-09-29T09:32:02.786399Z",
     "iopub.status.idle": "2020-09-29T09:32:02.789902Z",
     "shell.execute_reply": "2020-09-29T09:32:02.789437Z"
    },
    "tags": [
     "solution"
    ]
   },
   "outputs": [
    {
     "name": "stdout",
     "output_type": "stream",
     "text": [
      "Allemagne: Berlin\n",
      "Autriche: Vienne\n",
      "Belgique: Bruxelles\n",
      "Bulgarie: Sofia\n",
      "Chypre: Nicosie\n",
      "Croatie: Zagreb\n",
      "Danemark: Copenhague\n",
      "Espagne: Madrid\n",
      "Estonie: Tallinn\n",
      "Finlande: Helsinki\n",
      "France: Paris\n",
      "Grèce: Athènes\n",
      "Hongrie: Budapest\n",
      "Irlande: Dublin\n",
      "Italie: Rome\n",
      "Lettonie: Riga\n",
      "Lituanie: Vilnius\n",
      "Luxembourg: Luxembourg\n",
      "Malte: La valette\n",
      "Pays-bas: Amsterdam\n",
      "Pologne: Varsovie\n",
      "Portugal: Lisbonne\n",
      "République tchèque: Prague\n",
      "Roumanie: Bucarest\n",
      "Slovaquie: Bratislava\n",
      "Slovénie: Ljubljana\n",
      "Suède: Stockholm\n"
     ]
    }
   ],
   "source": [
    "# 1. copie du DataFrame\n",
    "df_europe_cp = df_europe.copy()\n",
    "\n",
    "# 2. Liste des pays et de leur capitale\n",
    "for lab, row in df_europe_cp.iterrows():\n",
    "    print(row[\"pays\"].capitalize() + \": \" + row[\"capitale\"].capitalize())"
   ]
  }
 ],
 "metadata": {
  "kernelspec": {
   "display_name": "Python 3",
   "language": "python",
   "name": "python3"
  },
  "language_info": {
   "codemirror_mode": {
    "name": "ipython",
    "version": 3
   },
   "file_extension": ".py",
   "mimetype": "text/x-python",
   "name": "python",
   "nbconvert_exporter": "python",
   "pygments_lexer": "ipython3",
   "version": "3.6.7"
  }
 },
 "nbformat": 4,
 "nbformat_minor": 4
}
