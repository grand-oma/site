{
 "cells": [
  {
   "cell_type": "markdown",
   "metadata": {},
   "source": [
    "# Fonctions et modules"
   ]
  },
  {
   "cell_type": "markdown",
   "metadata": {},
   "source": [
    "## Fonctions natives"
   ]
  },
  {
   "cell_type": "markdown",
   "metadata": {},
   "source": [
    "Il existe des fonctions prêtes à l'emploi dans Python. On en a déjà vu plusieurs:\n",
    "\n",
    "fonction | description\n",
    "--|--\n",
    "`print()` | affiche le résultat à l'écran\n",
    "`type()` | renvoie le type (classe) de l'objet\n",
    "`str()`, `float()` et `int()` | conversion d'un type vers un autre\n",
    "`del()` | supprime un ou plusieurs élément d'une liste\n",
    "\n",
    "Par exemple, pour obtenir le type de la valeur `10` et affecter le résultat à une nouvelle variable, on écrit:"
   ]
  },
  {
   "cell_type": "code",
   "execution_count": 1,
   "metadata": {
    "execution": {
     "iopub.execute_input": "2020-09-29T09:31:34.613702Z",
     "iopub.status.busy": "2020-09-29T09:31:34.611420Z",
     "iopub.status.idle": "2020-09-29T09:31:34.614676Z",
     "shell.execute_reply": "2020-09-29T09:31:34.614229Z"
    }
   },
   "outputs": [],
   "source": [
    "resultat = type(10)"
   ]
  },
  {
   "cell_type": "markdown",
   "metadata": {},
   "source": [
    "De manière générale, une fonction à des entrées et des sorties, et on l'appelle de la manière suivante:\n",
    "\n",
    "`sorties = nom_fonction(entrées)`"
   ]
  },
  {
   "cell_type": "markdown",
   "metadata": {},
   "source": [
    "La fonction `len()` permet d'obtenir la longueur d'une liste ou d'une chaîne, c'est-à-dire le nombre d'éléments contenus dans la liste, ou le nombre de caractères contenus dans la chaîne.\n",
    "\n",
    "Les fonctions `min()` et `max()` renvoient respectivement le plus petit et le plus grand élement d'une liste qui contient des élements d'un même type. Si ces éléments sont des chaînes, alors ils sont classés dans l'ordre alphabétique (a < b < c < ...)."
   ]
  },
  {
   "cell_type": "markdown",
   "metadata": {},
   "source": [
    "<div class=\"alert alert-info\">\n",
    "\n",
    "**Liste des fonctions natives**\n",
    "\n",
    "Vous pouvez trouver la liste des fonctions natives et leur description à l'adresse:\n",
    "\n",
    "https://docs.python.org/fr/3.8/library/functions.html\n",
    "\n",
    "\n",
    "\n",
    "</div>"
   ]
  },
  {
   "cell_type": "markdown",
   "metadata": {},
   "source": [
    "### Exercice\n",
    "1. Vous prévoyez un voyage en France qui passe par les villes suivantes: Le Mans, Nantes, Limoges, Toulouse, Montpellier, Lyon, Dijon, Nancy. Créer une liste `villes` qui contient le nom de ces villes.\n",
    "2. A l'aide des fonctions `len()` et `print()`, afficher le nombre de villes que vous prévoyez de visiter à l'écran."
   ]
  },
  {
   "cell_type": "code",
   "execution_count": 2,
   "metadata": {
    "execution": {
     "iopub.execute_input": "2020-09-29T09:31:34.619495Z",
     "iopub.status.busy": "2020-09-29T09:31:34.618905Z",
     "iopub.status.idle": "2020-09-29T09:31:34.622482Z",
     "shell.execute_reply": "2020-09-29T09:31:34.622899Z"
    },
    "tags": [
     "solution"
    ]
   },
   "outputs": [
    {
     "name": "stdout",
     "output_type": "stream",
     "text": [
      "7\n"
     ]
    }
   ],
   "source": [
    "# création de la liste de destinations\n",
    "villes = [\"Le Mans\", \"Nantes\", \"Limoges\", \"Toulouse\", \"Montpellier\", \"Lyon\", \"Dijon\"]\n",
    "\n",
    "# affichage de la longueur de la liste\n",
    "print(len(villes))"
   ]
  },
  {
   "cell_type": "markdown",
   "metadata": {},
   "source": [
    "## Aide"
   ]
  },
  {
   "cell_type": "markdown",
   "metadata": {},
   "source": [
    "Vous connaissez le nom d'un fonction mais vous ne vous souvenez plus comment l'utiliser? Vous pouvez obtenr de l'aide (en anglais) grâce à une autre fonction, `help()`, ou bien en écrivant `?` avant le nom de la fonction. Par exemple:"
   ]
  },
  {
   "cell_type": "code",
   "execution_count": 3,
   "metadata": {
    "execution": {
     "iopub.execute_input": "2020-09-29T09:31:34.628043Z",
     "iopub.status.busy": "2020-09-29T09:31:34.627457Z",
     "iopub.status.idle": "2020-09-29T09:31:34.629878Z",
     "shell.execute_reply": "2020-09-29T09:31:34.630369Z"
    }
   },
   "outputs": [
    {
     "name": "stdout",
     "output_type": "stream",
     "text": [
      "Help on built-in function len in module builtins:\n",
      "\n",
      "len(obj, /)\n",
      "    Return the number of items in a container.\n",
      "\n"
     ]
    }
   ],
   "source": [
    "help(len)"
   ]
  },
  {
   "cell_type": "markdown",
   "metadata": {},
   "source": [
    "L'aide nous renseigne sur les entrées et sorties de la fonction. Dans l'exemple, on traduit par:\n",
    "\n",
    "entrée | sortie | provenance\n",
    "--|--|--\n",
    "un objet (obj) | nombre d'éléments dans le conteneur | fonction native (built-in)"
   ]
  },
  {
   "cell_type": "markdown",
   "metadata": {},
   "source": [
    "<div class=\"alert alert-info\">\n",
    "\n",
    "**Conteneur**\n",
    "\n",
    "En Python, on appelle conteneur (*container*) un objet ayant vocation à en contenir d’autres, comme les chaînes qui contiennent des caractères, et les listes qui contiennent n'importe quel objet.\n",
    "\n",
    "</div>"
   ]
  },
  {
   "cell_type": "markdown",
   "metadata": {},
   "source": [
    "Voici un autre exemple:"
   ]
  },
  {
   "cell_type": "code",
   "execution_count": 4,
   "metadata": {
    "execution": {
     "iopub.execute_input": "2020-09-29T09:31:34.634768Z",
     "iopub.status.busy": "2020-09-29T09:31:34.634161Z",
     "iopub.status.idle": "2020-09-29T09:31:34.636549Z",
     "shell.execute_reply": "2020-09-29T09:31:34.637018Z"
    }
   },
   "outputs": [
    {
     "name": "stdout",
     "output_type": "stream",
     "text": [
      "Help on built-in function print in module builtins:\n",
      "\n",
      "print(...)\n",
      "    print(value, ..., sep=' ', end='\\n', file=sys.stdout, flush=False)\n",
      "    \n",
      "    Prints the values to a stream, or to sys.stdout by default.\n",
      "    Optional keyword arguments:\n",
      "    file:  a file-like object (stream); defaults to the current sys.stdout.\n",
      "    sep:   string inserted between values, default a space.\n",
      "    end:   string appended after the last value, default a newline.\n",
      "    flush: whether to forcibly flush the stream.\n",
      "\n"
     ]
    }
   ],
   "source": [
    "help(print)"
   ]
  },
  {
   "cell_type": "markdown",
   "metadata": {},
   "source": [
    "On voit ici qu'il y a plusieurs entrées. Les entrées obligatoires sont celles qui ne sont pas suivies du signe `=`. Les points ... signifient que l'on peut écrire plusieurs valeurs. Les entrées optionnelles sont suivies du signe `=`, qui indique leur valeur par défaut.\n",
    "\n",
    "Pour la fonction `print()`, il faut en entrée une ou plusieurs valeurs, séparée par une virgule. On peut ensuite spécifier, dans l'ordre que l'ont veut, les entrées optionnelles:\n",
    "\n",
    "option | valeur par défaut | description\n",
    "--|--|--\n",
    "`sep` | `\" \"` | séparateur entre les valeurs\n",
    "`end` | `\"\\n\"` | caractère à écrire en fin de ligne\n",
    "\n",
    "On verra les autres options possibles plus tard. Par exemple, on peut écrire:"
   ]
  },
  {
   "cell_type": "code",
   "execution_count": 5,
   "metadata": {
    "execution": {
     "iopub.execute_input": "2020-09-29T09:31:34.641315Z",
     "iopub.status.busy": "2020-09-29T09:31:34.640480Z",
     "iopub.status.idle": "2020-09-29T09:31:34.644046Z",
     "shell.execute_reply": "2020-09-29T09:31:34.643514Z"
    }
   },
   "outputs": [
    {
     "name": "stdout",
     "output_type": "stream",
     "text": [
      "Le Mans, Nantes, Limoges (mes destinations)\n"
     ]
    }
   ],
   "source": [
    "print(\"Le Mans\", \"Nantes\", \"Limoges\", sep=\", \", end=\" (mes destinations)\\n\")"
   ]
  },
  {
   "cell_type": "markdown",
   "metadata": {},
   "source": [
    "<div class=\"alert alert-info\">\n",
    "\n",
    "**Aide du site Python**\n",
    "\n",
    "Vous pouvez [consulter l'aide du site Python](https://docs.python.org/fr/3.8/index.html) en Français. Il y a des [tutoriels](https://docs.python.org/fr/3.8/tutorial/index.html), des [aides pour l'installation](https://docs.python.org/fr/3.8/using/index.html), une [description de la bibliothèque standard](https://docs.python.org/fr/3.8/library/index.html), entre autres choses.\n",
    "\n",
    "</div>"
   ]
  },
  {
   "cell_type": "markdown",
   "metadata": {},
   "source": [
    "### Exercice\n",
    "1. Afficher l'aide de la fonction `sorted()` et comprendre son fonctionnement. Note: un itérable (*iterable*) est un objet capable de renvoyer ses éléments un à un, comme les listes et les chaînes.\n",
    "2. Afficher à l'écran les villes contenues dans la liste `villes` créée plus haut dans un ordre alphabétique descendant (de z vers a), grâce à l'option `reverse=True` de la fonction `sorted()`, et de la fonction `print()`."
   ]
  },
  {
   "cell_type": "code",
   "execution_count": 6,
   "metadata": {
    "execution": {
     "iopub.execute_input": "2020-09-29T09:31:34.648673Z",
     "iopub.status.busy": "2020-09-29T09:31:34.648073Z",
     "iopub.status.idle": "2020-09-29T09:31:34.650463Z",
     "shell.execute_reply": "2020-09-29T09:31:34.650874Z"
    },
    "tags": [
     "solution"
    ]
   },
   "outputs": [
    {
     "name": "stdout",
     "output_type": "stream",
     "text": [
      "Help on built-in function sorted in module builtins:\n",
      "\n",
      "sorted(iterable, /, *, key=None, reverse=False)\n",
      "    Return a new list containing all items from the iterable in ascending order.\n",
      "    \n",
      "    A custom key function can be supplied to customize the sort order, and the\n",
      "    reverse flag can be set to request the result in descending order.\n",
      "\n"
     ]
    }
   ],
   "source": [
    "# aide de la fonction sorted()\n",
    "help(sorted)"
   ]
  },
  {
   "cell_type": "code",
   "execution_count": 7,
   "metadata": {
    "execution": {
     "iopub.execute_input": "2020-09-29T09:31:34.655033Z",
     "iopub.status.busy": "2020-09-29T09:31:34.654411Z",
     "iopub.status.idle": "2020-09-29T09:31:34.656795Z",
     "shell.execute_reply": "2020-09-29T09:31:34.657221Z"
    },
    "tags": [
     "solution"
    ]
   },
   "outputs": [
    {
     "name": "stdout",
     "output_type": "stream",
     "text": [
      "['Toulouse', 'Nantes', 'Montpellier', 'Lyon', 'Limoges', 'Le Mans', 'Dijon']\n"
     ]
    }
   ],
   "source": [
    "# affichage de la liste dans l'ordre alphabétique inverse\n",
    "print(sorted(villes, reverse=True))"
   ]
  },
  {
   "cell_type": "markdown",
   "metadata": {},
   "source": [
    "## Méthodes de chaînes"
   ]
  },
  {
   "cell_type": "markdown",
   "metadata": {},
   "source": [
    "Il existe beaucoup de méthodes pré-définies pour les chaînes de caractères. Nous en présentons quelques une ici. Pour avoir la liste complète, vous pouvez utiliser l'instruction `help(str)` ou bien [consulter l'aide du site Python](https://docs.python.org/fr/3/library/stdtypes.html#string-methods).\n",
    "\n",
    "méthode | description\n",
    "--|--\n",
    "`str.lower()` | renvoit un texte en minuscule\n",
    "`str.upper()` | renvoit un texte en majuscule\n",
    "`str.capitalize()` | première lettre en majuscule\n",
    "`str.split()` | renvoie une liste des mots sépararés par des blancs\n",
    "`str.find(str)` | recherche une chaîne spécifiée en entrée\n",
    "`str.replace(str1,str2)` | substitue une chaîne par une autre\n",
    "`str.count(str)` | compte le nombre d'occurrences d'une chaîne\n",
    "`str.startswith(str)` | vérifie si une chaîne commence par une autre chaîne\n",
    "`str.strip()` | \"nettoie les bords\" d'une chaîne"
   ]
  },
  {
   "cell_type": "markdown",
   "metadata": {},
   "source": [
    "### Exercice\n",
    "1. Créer une variable `ville = \"TOULOUSE\"`\n",
    "2. Afficher le nom de la ville à l'écran avec la première lettre en capitale et le reste en minuscule\n",
    "3. Afficher à l'écran le nombre de fois que la lettre \"o\" apparaît dans le mot"
   ]
  },
  {
   "cell_type": "code",
   "execution_count": 8,
   "metadata": {
    "execution": {
     "iopub.execute_input": "2020-09-29T09:31:34.662208Z",
     "iopub.status.busy": "2020-09-29T09:31:34.661584Z",
     "iopub.status.idle": "2020-09-29T09:31:34.663976Z",
     "shell.execute_reply": "2020-09-29T09:31:34.664381Z"
    },
    "tags": [
     "solution"
    ]
   },
   "outputs": [
    {
     "name": "stdout",
     "output_type": "stream",
     "text": [
      "Toulouse\n",
      "2\n"
     ]
    }
   ],
   "source": [
    "# création de la chaîne\n",
    "ville = \"TOULOUSE\"\n",
    "\n",
    "# affichage avec seulement la première lettre en capitale\n",
    "print(ville.lower().capitalize())\n",
    "\n",
    "# nombre d'occurence de la lettre o\n",
    "print(ville.lower().count(\"o\"))"
   ]
  },
  {
   "cell_type": "markdown",
   "metadata": {},
   "source": [
    "## Méthodes de liste"
   ]
  },
  {
   "cell_type": "markdown",
   "metadata": {},
   "source": [
    "Il existe aussi beaucoup de méthodes pré-définies pour les listes. Nous en présentons quelques une ici. Pour avoir la liste complète, vous pouvez utiliser l'instruction `help(list)` ou bien [consulter l'aide du site Python](https://docs.python.org/fr/3/library/stdtypes.html#mutable-sequence-types).\n",
    "\n",
    "méthode | description\n",
    "--|--\n",
    "`s.index(x)` | indice de la première occurrence de `x` dans `s`\n",
    "`s.count(x)` | nombre total d'occurrences de `x` dans `s`\n",
    "`s.append(x)` | ajoute `x` à la fin de la séquence `s`\n",
    "`s.clear()` | supprime tous les éléments de `s` (comme `del(s[:])`)\n",
    "`s.copy()` | crée une copie de `s` (comme `s[:]`)\n",
    "`s.extend(t)` | étend `s` avec le contenu de `t`\n",
    "`s.insert(i,x)` | insère `x` dans `s` à l'indice `i`\n",
    "`s.pop([i])` | récupère l'élément à l'indice `i` et le supprime de `s`\n",
    "`s.remove(x)` | supprime le premier élément de `s` égal à `x`\n",
    "`s.reverse()` | inverse l'ordre des éléments de `s`"
   ]
  },
  {
   "cell_type": "markdown",
   "metadata": {},
   "source": [
    "### Exercice\n",
    "On décide d'aller à Poitiers plutôt qu'à Limoges. Il faut donc substituer `\"Poitiers\"` à `\"Limoges\"` dans notre liste des destinations. De plus, on veut ajouter Paris comme destination finale.\n",
    "\n",
    "1. Créer la liste `villes = [\"Le Mans\", \"Nantes\", \"Limoges\", \"Toulouse\", \"Montpellier\", \"Lyon\", \"Dijon\"]`\n",
    "2. Affecter l'indice de la chaîne `\"Limoges\"` dans la liste `villes` à une variable `i`.\n",
    "3. Insérer la chaîne `\"Poitiers\"` dans la liste `villes` à l'indice `i`.\n",
    "4. Retirer la chaîne `\"Limoges\"` de la liste `villes`, et ajouter `\"Paris\"` à la fin de la liste.\n",
    "5. Afficher la liste `villes` à l'écran."
   ]
  },
  {
   "cell_type": "code",
   "execution_count": 9,
   "metadata": {
    "execution": {
     "iopub.execute_input": "2020-09-29T09:31:34.669915Z",
     "iopub.status.busy": "2020-09-29T09:31:34.669221Z",
     "iopub.status.idle": "2020-09-29T09:31:34.671618Z",
     "shell.execute_reply": "2020-09-29T09:31:34.672029Z"
    },
    "tags": [
     "solution"
    ]
   },
   "outputs": [
    {
     "name": "stdout",
     "output_type": "stream",
     "text": [
      "['Le Mans', 'Nantes', 'Poitiers', 'Toulouse', 'Montpellier', 'Lyon', 'Dijon', 'Paris']\n"
     ]
    }
   ],
   "source": [
    "# création de la liste\n",
    "villes = [\"Le Mans\", \"Nantes\", \"Limoges\", \"Toulouse\", \"Montpellier\", \"Lyon\", \"Dijon\"]\n",
    "\n",
    "# indice de l'élément \"Limoges\"\n",
    "i = villes.index(\"Limoges\")\n",
    "\n",
    "# insertion de la chaîne \"Poitiers\"\n",
    "villes.insert(i,\"Poitiers\")\n",
    "\n",
    "# suppression de la chaîne \"Limoges\"\n",
    "villes.remove(\"Limoges\")\n",
    "\n",
    "# ajout de la chaîne \"Paris\" en fin de liste\n",
    "villes.append(\"Paris\")\n",
    "\n",
    "# affichage de la liste\n",
    "print(villes)"
   ]
  },
  {
   "cell_type": "markdown",
   "metadata": {},
   "source": [
    "## Importer un module\n",
    "Les modules sont des bibliothèques de fonctions. Il existe de nombreux modules pour le calcul scientifique, que nous verrons dans la suite du cours. La bibliothèque Python propose quelques [modules numériques et mathématiques](https://docs.python.org/fr/3/library/numeric.html).\n",
    "\n",
    "Pour importer un module dans notre programme, par exemple le module `math`, il suffit d'écrire:"
   ]
  },
  {
   "cell_type": "code",
   "execution_count": 10,
   "metadata": {
    "execution": {
     "iopub.execute_input": "2020-09-29T09:31:34.675933Z",
     "iopub.status.busy": "2020-09-29T09:31:34.675160Z",
     "iopub.status.idle": "2020-09-29T09:31:34.677600Z",
     "shell.execute_reply": "2020-09-29T09:31:34.677149Z"
    }
   },
   "outputs": [],
   "source": [
    "import math"
   ]
  },
  {
   "cell_type": "markdown",
   "metadata": {},
   "source": [
    "On peut alors utiliser [les fonctions du module `math`](https://docs.python.org/fr/3/library/math.html) en écrivant:"
   ]
  },
  {
   "cell_type": "code",
   "execution_count": 11,
   "metadata": {
    "execution": {
     "iopub.execute_input": "2020-09-29T09:31:34.688400Z",
     "iopub.status.busy": "2020-09-29T09:31:34.687226Z",
     "iopub.status.idle": "2020-09-29T09:31:34.691304Z",
     "shell.execute_reply": "2020-09-29T09:31:34.691703Z"
    }
   },
   "outputs": [
    {
     "data": {
      "text/plain": [
       "3.141592653589793"
      ]
     },
     "execution_count": 1,
     "metadata": {},
     "output_type": "execute_result"
    }
   ],
   "source": [
    "math.pi"
   ]
  },
  {
   "cell_type": "code",
   "execution_count": 12,
   "metadata": {
    "execution": {
     "iopub.execute_input": "2020-09-29T09:31:34.698844Z",
     "iopub.status.busy": "2020-09-29T09:31:34.697637Z",
     "iopub.status.idle": "2020-09-29T09:31:34.700652Z",
     "shell.execute_reply": "2020-09-29T09:31:34.701093Z"
    }
   },
   "outputs": [
    {
     "data": {
      "text/plain": [
       "0.7071067811865476"
      ]
     },
     "execution_count": 1,
     "metadata": {},
     "output_type": "execute_result"
    }
   ],
   "source": [
    "math.sin(3 * math.pi / 4)"
   ]
  },
  {
   "cell_type": "markdown",
   "metadata": {},
   "source": [
    "On peu aussi changer le nom du module dans notre programme:"
   ]
  },
  {
   "cell_type": "code",
   "execution_count": 13,
   "metadata": {
    "execution": {
     "iopub.execute_input": "2020-09-29T09:31:34.705931Z",
     "iopub.status.busy": "2020-09-29T09:31:34.704474Z",
     "iopub.status.idle": "2020-09-29T09:31:34.706630Z",
     "shell.execute_reply": "2020-09-29T09:31:34.707054Z"
    }
   },
   "outputs": [],
   "source": [
    "import math as mt"
   ]
  },
  {
   "cell_type": "markdown",
   "metadata": {},
   "source": [
    "On accède alors aux fonctions avec le nouveau nom:"
   ]
  },
  {
   "cell_type": "code",
   "execution_count": 14,
   "metadata": {
    "execution": {
     "iopub.execute_input": "2020-09-29T09:31:34.712887Z",
     "iopub.status.busy": "2020-09-29T09:31:34.711338Z",
     "iopub.status.idle": "2020-09-29T09:31:34.714917Z",
     "shell.execute_reply": "2020-09-29T09:31:34.714485Z"
    }
   },
   "outputs": [
    {
     "data": {
      "text/plain": [
       "2.718281828459045"
      ]
     },
     "execution_count": 1,
     "metadata": {},
     "output_type": "execute_result"
    }
   ],
   "source": [
    "mt.e"
   ]
  },
  {
   "cell_type": "code",
   "execution_count": 15,
   "metadata": {
    "execution": {
     "iopub.execute_input": "2020-09-29T09:31:34.719896Z",
     "iopub.status.busy": "2020-09-29T09:31:34.719201Z",
     "iopub.status.idle": "2020-09-29T09:31:34.722104Z",
     "shell.execute_reply": "2020-09-29T09:31:34.722502Z"
    }
   },
   "outputs": [
    {
     "data": {
      "text/plain": [
       "1.0"
      ]
     },
     "execution_count": 1,
     "metadata": {},
     "output_type": "execute_result"
    }
   ],
   "source": [
    "mt.log(mt.e)"
   ]
  },
  {
   "cell_type": "markdown",
   "metadata": {},
   "source": [
    "### Exercice\n",
    "1. Importer le module `random` en lui donnant le nom `rd`.\n",
    "2. Afficher à l'écran un chiffre aléatoire entre 0 et 1 à l'aide de [la fonction `random()`](https://docs.python.org/fr/3/library/random.html) du module `random`."
   ]
  },
  {
   "cell_type": "code",
   "execution_count": 16,
   "metadata": {
    "execution": {
     "iopub.execute_input": "2020-09-29T09:31:34.728038Z",
     "iopub.status.busy": "2020-09-29T09:31:34.726516Z",
     "iopub.status.idle": "2020-09-29T09:31:34.730147Z",
     "shell.execute_reply": "2020-09-29T09:31:34.729517Z"
    },
    "tags": [
     "solution"
    ]
   },
   "outputs": [
    {
     "name": "stdout",
     "output_type": "stream",
     "text": [
      "0.9378475412295625\n"
     ]
    }
   ],
   "source": [
    "# import du module random\n",
    "import random as rd\n",
    "\n",
    "# affichage d'un nombre aléatoire entre 0 et 1\n",
    "print(rd.random())"
   ]
  },
  {
   "cell_type": "markdown",
   "metadata": {},
   "source": [
    "## Import séléctif\n",
    "Finalement, on peut importer seulement quelques fonctions d'un module en les nommant. On n'a alors pas besoin de spécifier le module quand on les utilise: "
   ]
  },
  {
   "cell_type": "code",
   "execution_count": 17,
   "metadata": {
    "execution": {
     "iopub.execute_input": "2020-09-29T09:31:34.735388Z",
     "iopub.status.busy": "2020-09-29T09:31:34.734513Z",
     "iopub.status.idle": "2020-09-29T09:31:34.736990Z",
     "shell.execute_reply": "2020-09-29T09:31:34.737668Z"
    }
   },
   "outputs": [
    {
     "name": "stdout",
     "output_type": "stream",
     "text": [
      "1.0\n"
     ]
    }
   ],
   "source": [
    "from math import cos, radians # radian(x) convertit l'angle x de degrés en radians\n",
    "\n",
    "angle = 360 # degrés\n",
    "print(cos(radians(angle)))"
   ]
  },
  {
   "cell_type": "markdown",
   "metadata": {},
   "source": [
    "### Exercice\n",
    "1. Importer les fonctions `mean()` et `median()` du module `statistics`.\n",
    "2. Lire leurs descriptions dans [l'aide du module statistics](https://docs.python.org/fr/3/library/statistics.html).\n",
    "3. Créer une liste `nombres = [7.2, 1.5, 9.3, 6.9, 14.2, 2.5]`\n",
    "4. Afficher à l'écran la moyenne et la médiane de la liste `nombres`."
   ]
  },
  {
   "cell_type": "code",
   "execution_count": 18,
   "metadata": {
    "execution": {
     "iopub.execute_input": "2020-09-29T09:31:34.742224Z",
     "iopub.status.busy": "2020-09-29T09:31:34.741708Z",
     "iopub.status.idle": "2020-09-29T09:31:34.750155Z",
     "shell.execute_reply": "2020-09-29T09:31:34.749628Z"
    },
    "tags": [
     "solution"
    ]
   },
   "outputs": [
    {
     "name": "stdout",
     "output_type": "stream",
     "text": [
      "Moyenne: 18.400000000000002\n",
      "Médiane: 7.2\n"
     ]
    }
   ],
   "source": [
    "# import des fonction mean() et random() du module statistics\n",
    "from statistics import mean, median\n",
    "\n",
    "# création de la liste\n",
    "nombres = [7.2, 1.5, 9.3, 6.9, 14.2, 2.5, 87.2]\n",
    "\n",
    "# affichage de la moyenne et de la médiane\n",
    "print(\"Moyenne: \" + str(mean(nombres)))\n",
    "print(\"Médiane: \" + str(median(nombres)))"
   ]
  }
 ],
 "metadata": {
  "kernelspec": {
   "display_name": "Python 3",
   "language": "python",
   "name": "python3"
  },
  "language_info": {
   "codemirror_mode": {
    "name": "ipython",
    "version": 3
   },
   "file_extension": ".py",
   "mimetype": "text/x-python",
   "name": "python",
   "nbconvert_exporter": "python",
   "pygments_lexer": "ipython3",
   "version": "3.6.7"
  }
 },
 "nbformat": 4,
 "nbformat_minor": 4
}
